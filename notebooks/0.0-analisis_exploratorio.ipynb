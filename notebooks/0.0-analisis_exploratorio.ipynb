{
 "cells": [
  {
   "cell_type": "markdown",
   "source": [
    "### Carga de datos"
   ],
   "metadata": {
    "collapsed": false
   },
   "id": "7b8c4ddf11177e84"
  },
  {
   "cell_type": "code",
   "execution_count": 12,
   "id": "initial_id",
   "metadata": {
    "collapsed": true,
    "ExecuteTime": {
     "end_time": "2023-08-22T01:39:13.103370Z",
     "start_time": "2023-08-22T01:39:13.048123Z"
    }
   },
   "outputs": [],
   "source": [
    "import pandas as pd\n",
    "import os\n",
    "delitos = os.path.join('..', 'data', 'IDEFC_NM_jun23.csv')\n",
    "delitos_df=pd.read_csv(delitos, encoding='ISO-8859-1')\n",
    "edos = os.path.join('..', 'data', 'PoblacionEstado.csv')\n",
    "edos_df=pd.read_csv(edos)"
   ]
  },
  {
   "cell_type": "markdown",
   "source": [
    "Tamaño de los dataframe"
   ],
   "metadata": {
    "collapsed": false
   },
   "id": "3a9f859217e41b23"
  },
  {
   "cell_type": "code",
   "execution_count": 13,
   "outputs": [
    {
     "name": "stdout",
     "output_type": "stream",
     "text": [
      "(28224, 19) (32, 2)\n"
     ]
    }
   ],
   "source": [
    "print(delitos_df.shape, edos_df.shape)\n"
   ],
   "metadata": {
    "collapsed": false,
    "ExecuteTime": {
     "end_time": "2023-08-22T01:39:15.639318Z",
     "start_time": "2023-08-22T01:39:15.634007Z"
    }
   },
   "id": "fdc1eadcea84e4d8"
  },
  {
   "cell_type": "markdown",
   "source": [
    "Tipos de datos"
   ],
   "metadata": {
    "collapsed": false
   },
   "id": "401e30fcee35b224"
  },
  {
   "cell_type": "code",
   "execution_count": 24,
   "outputs": [
    {
     "name": "stdout",
     "output_type": "stream",
     "text": [
      "Año                         int64\n",
      "Clave_Ent                   int64\n",
      "Entidad                    object\n",
      "Bien jurídico afectado     object\n",
      "Tipo de delito             object\n",
      "Subtipo de delito          object\n",
      "Modalidad                  object\n",
      "Enero                       int64\n",
      "Febrero                     int64\n",
      "Marzo                       int64\n",
      "Abril                       int64\n",
      "Mayo                        int64\n",
      "Junio                       int64\n",
      "Julio                     float64\n",
      "Agosto                    float64\n",
      "Septiembre                float64\n",
      "Octubre                   float64\n",
      "Noviembre                 float64\n",
      "Diciembre                 float64\n",
      "dtype: object Entidad      object\n",
      "Población    object\n",
      "dtype: object\n"
     ]
    }
   ],
   "source": [
    "print( delitos_df.dtypes, edos_df.dtypes)"
   ],
   "metadata": {
    "collapsed": false,
    "ExecuteTime": {
     "end_time": "2023-08-22T01:43:28.915624Z",
     "start_time": "2023-08-22T01:43:28.907560Z"
    }
   },
   "id": "dca43304ca652a5d"
  },
  {
   "cell_type": "markdown",
   "source": [
    "### Tipos de delito"
   ],
   "metadata": {
    "collapsed": false
   },
   "id": "db886be464d06752"
  },
  {
   "cell_type": "code",
   "execution_count": 16,
   "outputs": [
    {
     "name": "stdout",
     "output_type": "stream",
     "text": [
      "Tipo de delito\n",
      "Robo                                                                             10368\n",
      "Homicidio                                                                         2592\n",
      "Lesiones                                                                          2592\n",
      "Secuestro                                                                         1440\n",
      "Feminicidio                                                                       1152\n",
      "Narcomenudeo                                                                       288\n",
      "Violencia de género en todas sus modalidades distinta a la violencia familiar      288\n",
      "Incumplimiento de obligaciones de asistencia familiar                              288\n",
      "Otros delitos contra la familia                                                    288\n",
      "Corrupción de menores                                                              288\n",
      "Trata de personas                                                                  288\n",
      "Otros delitos contra la sociedad                                                   288\n",
      "Amenazas                                                                           288\n",
      "Otros delitos contra el patrimonio                                                 288\n",
      "Allanamiento de morada                                                             288\n",
      "Evasión de presos                                                                  288\n",
      "Falsedad                                                                           288\n",
      "Falsificación                                                                      288\n",
      "Contra el medio ambiente                                                           288\n",
      "Delitos cometidos por servidores públicos                                          288\n",
      "Electorales                                                                        288\n",
      "Violencia familiar                                                                 288\n",
      "Daño a la propiedad                                                                288\n",
      "Despojo                                                                            288\n",
      "Acoso sexual                                                                       288\n",
      "Aborto                                                                             288\n",
      "Otros delitos que atentan contra la vida y la integridad corporal                  288\n",
      "Tráfico de menores                                                                 288\n",
      "Rapto                                                                              288\n",
      "Otros delitos que atentan contra la libertad personal                              288\n",
      "Abuso sexual                                                                       288\n",
      "Hostigamiento sexual                                                               288\n",
      "Extorsión                                                                          288\n",
      "Violación simple                                                                   288\n",
      "Violación equiparada                                                               288\n",
      "Incesto                                                                            288\n",
      "Otros delitos que atentan contra la libertad y la seguridad sexual                 288\n",
      "Fraude                                                                             288\n",
      "Abuso de confianza                                                                 288\n",
      "Otros delitos del Fuero Común                                                      288\n",
      "Name: count, dtype: int64\n"
     ]
    }
   ],
   "source": [
    "conteo_valores = delitos_df['Tipo de delito'].value_counts()\n",
    "print(conteo_valores)\n"
   ],
   "metadata": {
    "collapsed": false,
    "ExecuteTime": {
     "end_time": "2023-08-22T01:40:07.377242Z",
     "start_time": "2023-08-22T01:40:07.351024Z"
    }
   },
   "id": "3aa347e25e4d06aa"
  }
 ],
 "metadata": {
  "kernelspec": {
   "display_name": "Python 3",
   "language": "python",
   "name": "python3"
  },
  "language_info": {
   "codemirror_mode": {
    "name": "ipython",
    "version": 2
   },
   "file_extension": ".py",
   "mimetype": "text/x-python",
   "name": "python",
   "nbconvert_exporter": "python",
   "pygments_lexer": "ipython2",
   "version": "2.7.6"
  }
 },
 "nbformat": 4,
 "nbformat_minor": 5
}
