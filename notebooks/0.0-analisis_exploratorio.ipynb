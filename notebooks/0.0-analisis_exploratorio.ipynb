{
 "cells": [
  {
   "cell_type": "markdown",
   "source": [
    "### Import data"
   ],
   "metadata": {
    "collapsed": false
   },
   "id": "7b8c4ddf11177e84"
  },
  {
   "cell_type": "code",
   "execution_count": 1,
   "id": "initial_id",
   "metadata": {
    "collapsed": true,
    "ExecuteTime": {
     "end_time": "2023-10-04T18:36:00.008385Z",
     "start_time": "2023-10-04T18:35:58.996749Z"
    }
   },
   "outputs": [],
   "source": [
    "import pandas as pd\n",
    "import os\n",
    "crimes = os.path.join('..', 'data', 'IDEFC_NM_ago23.csv')\n",
    "crimes_df=pd.read_csv(crimes, encoding='ISO-8859-1')\n"
   ]
  },
  {
   "cell_type": "code",
   "execution_count": 3,
   "outputs": [],
   "source": [
    "### Population according to the INEGI 2020 census\n",
    "\n",
    "states_dict = {\n",
    "    'State': [\n",
    "        'Aguascalientes', 'Baja California', 'Baja California Sur', 'Campeche', 'Coahuila de Zaragoza',\n",
    "        'Colima', 'Chiapas', 'Chihuahua', 'Ciudad de México', 'Durango', 'Guanajuato', 'Guerrero',\n",
    "        'Hidalgo', 'Jalisco', 'México', 'Michoacán de Ocampo', 'Morelos', 'Nayarit', 'Nuevo León',\n",
    "        'Oaxaca', 'Puebla', 'Querétaro', 'Quintana Roo', 'San Luis Potosí', 'Sinaloa', 'Sonora',\n",
    "        'Tabasco', 'Tamaulipas', 'Tlaxcala', 'Veracruz de Ignacio de la Llave', 'Yucatán', 'Zacatecas'\n",
    "    ],\n",
    "    'Population': [\n",
    "        '1,425,607', '3,769,020', '798,447', '928,363', '3,146,771', '731,391', '5,543,828', '3,741,869',\n",
    "        '9,209,944', '1,832,650', '6,166,934', '3,540,685', '3,082,841', '8,348,151', '16,992,418',\n",
    "        '4,748,846', '1,971,520', '1,235,456', '5,784,442', '4,132,148', '6,583,278', '2,368,467',\n",
    "        '1,857,985', '2,822,255', '3,026,943', '2,944,840', '2,402,598', '3,527,735', '1,342,977',\n",
    "        '8,062,579', '2,320,898', '1,622,138'\n",
    "    ]\n",
    "}\n",
    "\n",
    "\n",
    "states_df = pd.DataFrame(states_dict)\n",
    "states_df['Population'] = states_df['Population'].str.replace(',', '').astype(int)\n"
   ],
   "metadata": {
    "collapsed": false,
    "ExecuteTime": {
     "end_time": "2023-10-04T18:36:16.100206Z",
     "start_time": "2023-10-04T18:36:16.097998Z"
    }
   },
   "id": "5a90166ff414412b"
  },
  {
   "cell_type": "markdown",
   "source": [
    "Dataframe size"
   ],
   "metadata": {
    "collapsed": false
   },
   "id": "3a9f859217e41b23"
  },
  {
   "cell_type": "code",
   "execution_count": null,
   "outputs": [],
   "source": [
    "print(crimes_df.shape, states_df.shape)\n"
   ],
   "metadata": {
    "collapsed": false,
    "ExecuteTime": {
     "start_time": "2023-09-30T16:58:25.532659Z"
    }
   },
   "id": "fdc1eadcea84e4d8"
  },
  {
   "cell_type": "markdown",
   "source": [
    "Data type"
   ],
   "metadata": {
    "collapsed": false
   },
   "id": "401e30fcee35b224"
  },
  {
   "cell_type": "code",
   "execution_count": 9,
   "outputs": [
    {
     "name": "stdout",
     "output_type": "stream",
     "text": [
      "Año                         int64\n",
      "Clave_Ent                   int64\n",
      "Entidad                    object\n",
      "Bien jurídico afectado     object\n",
      "Tipo de delito             object\n",
      "Subtipo de delito          object\n",
      "Modalidad                  object\n",
      "Enero                       int64\n",
      "Febrero                     int64\n",
      "Marzo                       int64\n",
      "Abril                       int64\n",
      "Mayo                        int64\n",
      "Junio                       int64\n",
      "Julio                       int64\n",
      "Agosto                      int64\n",
      "Septiembre                float64\n",
      "Octubre                   float64\n",
      "Noviembre                 float64\n",
      "Diciembre                 float64\n",
      "dtype: object Entidad      object\n",
      "Población     int64\n",
      "dtype: object\n"
     ]
    }
   ],
   "source": [
    "print( crimes_df.dtypes, states_df.dtypes)"
   ],
   "metadata": {
    "collapsed": false,
    "ExecuteTime": {
     "end_time": "2023-10-04T08:05:07.633657Z",
     "start_time": "2023-10-04T08:05:07.615425Z"
    }
   },
   "id": "dca43304ca652a5d"
  },
  {
   "cell_type": "markdown",
   "source": [
    "### Translating crimes dataframe:"
   ],
   "metadata": {
    "collapsed": false
   },
   "id": "73836de1b2e59d6"
  },
  {
   "cell_type": "code",
   "execution_count": 6,
   "outputs": [
    {
     "ename": "KeyboardInterrupt",
     "evalue": "",
     "output_type": "error",
     "traceback": [
      "\u001B[0;31m---------------------------------------------------------------------------\u001B[0m",
      "\u001B[0;31mKeyboardInterrupt\u001B[0m                         Traceback (most recent call last)",
      "Cell \u001B[0;32mIn[6], line 26\u001B[0m\n\u001B[1;32m     24\u001B[0m     translated_value \u001B[38;5;241m=\u001B[39m translation_cache[value]\n\u001B[1;32m     25\u001B[0m \u001B[38;5;28;01melse\u001B[39;00m:\n\u001B[0;32m---> 26\u001B[0m     translated_value \u001B[38;5;241m=\u001B[39m \u001B[43mtranslator\u001B[49m\u001B[38;5;241;43m.\u001B[39;49m\u001B[43mtranslate\u001B[49m\u001B[43m(\u001B[49m\u001B[38;5;28;43mstr\u001B[39;49m\u001B[43m(\u001B[49m\u001B[43mvalue\u001B[49m\u001B[43m)\u001B[49m\u001B[43m)\u001B[49m\n\u001B[1;32m     27\u001B[0m     translation_cache[value] \u001B[38;5;241m=\u001B[39m translated_value\n\u001B[1;32m     29\u001B[0m translated_df[col]\u001B[38;5;241m.\u001B[39mreplace(value, translated_value, inplace\u001B[38;5;241m=\u001B[39m\u001B[38;5;28;01mTrue\u001B[39;00m)\n",
      "File \u001B[0;32m~/anaconda3/envs/mexico_crime/lib/python3.11/site-packages/translate/translate.py:45\u001B[0m, in \u001B[0;36mTranslator.translate\u001B[0;34m(self, text)\u001B[0m\n\u001B[1;32m     42\u001B[0m     \u001B[38;5;28;01mreturn\u001B[39;00m text\n\u001B[1;32m     44\u001B[0m text_list \u001B[38;5;241m=\u001B[39m wrap(text, TRANSLATION_API_MAX_LENGHT, replace_whitespace\u001B[38;5;241m=\u001B[39m\u001B[38;5;28;01mFalse\u001B[39;00m)\n\u001B[0;32m---> 45\u001B[0m \u001B[38;5;28;01mreturn\u001B[39;00m \u001B[38;5;124m'\u001B[39m\u001B[38;5;124m \u001B[39m\u001B[38;5;124m'\u001B[39m\u001B[38;5;241m.\u001B[39mjoin(\u001B[38;5;28mself\u001B[39m\u001B[38;5;241m.\u001B[39mprovider\u001B[38;5;241m.\u001B[39mget_translation(text_wraped) \u001B[38;5;28;01mfor\u001B[39;00m text_wraped \u001B[38;5;129;01min\u001B[39;00m text_list)\n",
      "File \u001B[0;32m~/anaconda3/envs/mexico_crime/lib/python3.11/site-packages/translate/translate.py:45\u001B[0m, in \u001B[0;36m<genexpr>\u001B[0;34m(.0)\u001B[0m\n\u001B[1;32m     42\u001B[0m     \u001B[38;5;28;01mreturn\u001B[39;00m text\n\u001B[1;32m     44\u001B[0m text_list \u001B[38;5;241m=\u001B[39m wrap(text, TRANSLATION_API_MAX_LENGHT, replace_whitespace\u001B[38;5;241m=\u001B[39m\u001B[38;5;28;01mFalse\u001B[39;00m)\n\u001B[0;32m---> 45\u001B[0m \u001B[38;5;28;01mreturn\u001B[39;00m \u001B[38;5;124m'\u001B[39m\u001B[38;5;124m \u001B[39m\u001B[38;5;124m'\u001B[39m\u001B[38;5;241m.\u001B[39mjoin(\u001B[38;5;28;43mself\u001B[39;49m\u001B[38;5;241;43m.\u001B[39;49m\u001B[43mprovider\u001B[49m\u001B[38;5;241;43m.\u001B[39;49m\u001B[43mget_translation\u001B[49m\u001B[43m(\u001B[49m\u001B[43mtext_wraped\u001B[49m\u001B[43m)\u001B[49m \u001B[38;5;28;01mfor\u001B[39;00m text_wraped \u001B[38;5;129;01min\u001B[39;00m text_list)\n",
      "File \u001B[0;32m~/anaconda3/envs/mexico_crime/lib/python3.11/site-packages/translate/providers/mymemory_translated.py:42\u001B[0m, in \u001B[0;36mMyMemoryProvider.get_translation\u001B[0;34m(self, text)\u001B[0m\n\u001B[1;32m     41\u001B[0m \u001B[38;5;28;01mdef\u001B[39;00m \u001B[38;5;21mget_translation\u001B[39m(\u001B[38;5;28mself\u001B[39m, text):\n\u001B[0;32m---> 42\u001B[0m     data \u001B[38;5;241m=\u001B[39m \u001B[38;5;28;43mself\u001B[39;49m\u001B[38;5;241;43m.\u001B[39;49m\u001B[43m_make_request\u001B[49m\u001B[43m(\u001B[49m\u001B[43mtext\u001B[49m\u001B[43m)\u001B[49m\n\u001B[1;32m     44\u001B[0m     translation \u001B[38;5;241m=\u001B[39m data[\u001B[38;5;124m'\u001B[39m\u001B[38;5;124mresponseData\u001B[39m\u001B[38;5;124m'\u001B[39m][\u001B[38;5;124m'\u001B[39m\u001B[38;5;124mtranslatedText\u001B[39m\u001B[38;5;124m'\u001B[39m]\n\u001B[1;32m     45\u001B[0m     \u001B[38;5;28;01mif\u001B[39;00m translation:\n",
      "File \u001B[0;32m~/anaconda3/envs/mexico_crime/lib/python3.11/site-packages/translate/providers/mymemory_translated.py:38\u001B[0m, in \u001B[0;36mMyMemoryProvider._make_request\u001B[0;34m(self, text)\u001B[0m\n\u001B[1;32m     35\u001B[0m \u001B[38;5;28;01mif\u001B[39;00m \u001B[38;5;28mself\u001B[39m\u001B[38;5;241m.\u001B[39memail:\n\u001B[1;32m     36\u001B[0m     params[\u001B[38;5;124m'\u001B[39m\u001B[38;5;124mde\u001B[39m\u001B[38;5;124m'\u001B[39m] \u001B[38;5;241m=\u001B[39m \u001B[38;5;28mself\u001B[39m\u001B[38;5;241m.\u001B[39memail\n\u001B[0;32m---> 38\u001B[0m response \u001B[38;5;241m=\u001B[39m \u001B[43mrequests\u001B[49m\u001B[38;5;241;43m.\u001B[39;49m\u001B[43mget\u001B[49m\u001B[43m(\u001B[49m\u001B[38;5;28;43mself\u001B[39;49m\u001B[38;5;241;43m.\u001B[39;49m\u001B[43mbase_url\u001B[49m\u001B[43m,\u001B[49m\u001B[43m \u001B[49m\u001B[43mparams\u001B[49m\u001B[38;5;241;43m=\u001B[39;49m\u001B[43mparams\u001B[49m\u001B[43m,\u001B[49m\u001B[43m \u001B[49m\u001B[43mheaders\u001B[49m\u001B[38;5;241;43m=\u001B[39;49m\u001B[38;5;28;43mself\u001B[39;49m\u001B[38;5;241;43m.\u001B[39;49m\u001B[43mheaders\u001B[49m\u001B[43m)\u001B[49m\n\u001B[1;32m     39\u001B[0m \u001B[38;5;28;01mreturn\u001B[39;00m response\u001B[38;5;241m.\u001B[39mjson()\n",
      "File \u001B[0;32m~/anaconda3/envs/mexico_crime/lib/python3.11/site-packages/requests/api.py:73\u001B[0m, in \u001B[0;36mget\u001B[0;34m(url, params, **kwargs)\u001B[0m\n\u001B[1;32m     62\u001B[0m \u001B[38;5;28;01mdef\u001B[39;00m \u001B[38;5;21mget\u001B[39m(url, params\u001B[38;5;241m=\u001B[39m\u001B[38;5;28;01mNone\u001B[39;00m, \u001B[38;5;241m*\u001B[39m\u001B[38;5;241m*\u001B[39mkwargs):\n\u001B[1;32m     63\u001B[0m \u001B[38;5;250m    \u001B[39m\u001B[38;5;124mr\u001B[39m\u001B[38;5;124;03m\"\"\"Sends a GET request.\u001B[39;00m\n\u001B[1;32m     64\u001B[0m \n\u001B[1;32m     65\u001B[0m \u001B[38;5;124;03m    :param url: URL for the new :class:`Request` object.\u001B[39;00m\n\u001B[0;32m   (...)\u001B[0m\n\u001B[1;32m     70\u001B[0m \u001B[38;5;124;03m    :rtype: requests.Response\u001B[39;00m\n\u001B[1;32m     71\u001B[0m \u001B[38;5;124;03m    \"\"\"\u001B[39;00m\n\u001B[0;32m---> 73\u001B[0m     \u001B[38;5;28;01mreturn\u001B[39;00m \u001B[43mrequest\u001B[49m\u001B[43m(\u001B[49m\u001B[38;5;124;43m\"\u001B[39;49m\u001B[38;5;124;43mget\u001B[39;49m\u001B[38;5;124;43m\"\u001B[39;49m\u001B[43m,\u001B[49m\u001B[43m \u001B[49m\u001B[43murl\u001B[49m\u001B[43m,\u001B[49m\u001B[43m \u001B[49m\u001B[43mparams\u001B[49m\u001B[38;5;241;43m=\u001B[39;49m\u001B[43mparams\u001B[49m\u001B[43m,\u001B[49m\u001B[43m \u001B[49m\u001B[38;5;241;43m*\u001B[39;49m\u001B[38;5;241;43m*\u001B[39;49m\u001B[43mkwargs\u001B[49m\u001B[43m)\u001B[49m\n",
      "File \u001B[0;32m~/anaconda3/envs/mexico_crime/lib/python3.11/site-packages/requests/api.py:59\u001B[0m, in \u001B[0;36mrequest\u001B[0;34m(method, url, **kwargs)\u001B[0m\n\u001B[1;32m     55\u001B[0m \u001B[38;5;66;03m# By using the 'with' statement we are sure the session is closed, thus we\u001B[39;00m\n\u001B[1;32m     56\u001B[0m \u001B[38;5;66;03m# avoid leaving sockets open which can trigger a ResourceWarning in some\u001B[39;00m\n\u001B[1;32m     57\u001B[0m \u001B[38;5;66;03m# cases, and look like a memory leak in others.\u001B[39;00m\n\u001B[1;32m     58\u001B[0m \u001B[38;5;28;01mwith\u001B[39;00m sessions\u001B[38;5;241m.\u001B[39mSession() \u001B[38;5;28;01mas\u001B[39;00m session:\n\u001B[0;32m---> 59\u001B[0m     \u001B[38;5;28;01mreturn\u001B[39;00m \u001B[43msession\u001B[49m\u001B[38;5;241;43m.\u001B[39;49m\u001B[43mrequest\u001B[49m\u001B[43m(\u001B[49m\u001B[43mmethod\u001B[49m\u001B[38;5;241;43m=\u001B[39;49m\u001B[43mmethod\u001B[49m\u001B[43m,\u001B[49m\u001B[43m \u001B[49m\u001B[43murl\u001B[49m\u001B[38;5;241;43m=\u001B[39;49m\u001B[43murl\u001B[49m\u001B[43m,\u001B[49m\u001B[43m \u001B[49m\u001B[38;5;241;43m*\u001B[39;49m\u001B[38;5;241;43m*\u001B[39;49m\u001B[43mkwargs\u001B[49m\u001B[43m)\u001B[49m\n",
      "File \u001B[0;32m~/anaconda3/envs/mexico_crime/lib/python3.11/site-packages/requests/sessions.py:589\u001B[0m, in \u001B[0;36mSession.request\u001B[0;34m(self, method, url, params, data, headers, cookies, files, auth, timeout, allow_redirects, proxies, hooks, stream, verify, cert, json)\u001B[0m\n\u001B[1;32m    584\u001B[0m send_kwargs \u001B[38;5;241m=\u001B[39m {\n\u001B[1;32m    585\u001B[0m     \u001B[38;5;124m\"\u001B[39m\u001B[38;5;124mtimeout\u001B[39m\u001B[38;5;124m\"\u001B[39m: timeout,\n\u001B[1;32m    586\u001B[0m     \u001B[38;5;124m\"\u001B[39m\u001B[38;5;124mallow_redirects\u001B[39m\u001B[38;5;124m\"\u001B[39m: allow_redirects,\n\u001B[1;32m    587\u001B[0m }\n\u001B[1;32m    588\u001B[0m send_kwargs\u001B[38;5;241m.\u001B[39mupdate(settings)\n\u001B[0;32m--> 589\u001B[0m resp \u001B[38;5;241m=\u001B[39m \u001B[38;5;28;43mself\u001B[39;49m\u001B[38;5;241;43m.\u001B[39;49m\u001B[43msend\u001B[49m\u001B[43m(\u001B[49m\u001B[43mprep\u001B[49m\u001B[43m,\u001B[49m\u001B[43m \u001B[49m\u001B[38;5;241;43m*\u001B[39;49m\u001B[38;5;241;43m*\u001B[39;49m\u001B[43msend_kwargs\u001B[49m\u001B[43m)\u001B[49m\n\u001B[1;32m    591\u001B[0m \u001B[38;5;28;01mreturn\u001B[39;00m resp\n",
      "File \u001B[0;32m~/anaconda3/envs/mexico_crime/lib/python3.11/site-packages/requests/sessions.py:703\u001B[0m, in \u001B[0;36mSession.send\u001B[0;34m(self, request, **kwargs)\u001B[0m\n\u001B[1;32m    700\u001B[0m start \u001B[38;5;241m=\u001B[39m preferred_clock()\n\u001B[1;32m    702\u001B[0m \u001B[38;5;66;03m# Send the request\u001B[39;00m\n\u001B[0;32m--> 703\u001B[0m r \u001B[38;5;241m=\u001B[39m \u001B[43madapter\u001B[49m\u001B[38;5;241;43m.\u001B[39;49m\u001B[43msend\u001B[49m\u001B[43m(\u001B[49m\u001B[43mrequest\u001B[49m\u001B[43m,\u001B[49m\u001B[43m \u001B[49m\u001B[38;5;241;43m*\u001B[39;49m\u001B[38;5;241;43m*\u001B[39;49m\u001B[43mkwargs\u001B[49m\u001B[43m)\u001B[49m\n\u001B[1;32m    705\u001B[0m \u001B[38;5;66;03m# Total elapsed time of the request (approximately)\u001B[39;00m\n\u001B[1;32m    706\u001B[0m elapsed \u001B[38;5;241m=\u001B[39m preferred_clock() \u001B[38;5;241m-\u001B[39m start\n",
      "File \u001B[0;32m~/anaconda3/envs/mexico_crime/lib/python3.11/site-packages/requests/adapters.py:486\u001B[0m, in \u001B[0;36mHTTPAdapter.send\u001B[0;34m(self, request, stream, timeout, verify, cert, proxies)\u001B[0m\n\u001B[1;32m    483\u001B[0m     timeout \u001B[38;5;241m=\u001B[39m TimeoutSauce(connect\u001B[38;5;241m=\u001B[39mtimeout, read\u001B[38;5;241m=\u001B[39mtimeout)\n\u001B[1;32m    485\u001B[0m \u001B[38;5;28;01mtry\u001B[39;00m:\n\u001B[0;32m--> 486\u001B[0m     resp \u001B[38;5;241m=\u001B[39m \u001B[43mconn\u001B[49m\u001B[38;5;241;43m.\u001B[39;49m\u001B[43murlopen\u001B[49m\u001B[43m(\u001B[49m\n\u001B[1;32m    487\u001B[0m \u001B[43m        \u001B[49m\u001B[43mmethod\u001B[49m\u001B[38;5;241;43m=\u001B[39;49m\u001B[43mrequest\u001B[49m\u001B[38;5;241;43m.\u001B[39;49m\u001B[43mmethod\u001B[49m\u001B[43m,\u001B[49m\n\u001B[1;32m    488\u001B[0m \u001B[43m        \u001B[49m\u001B[43murl\u001B[49m\u001B[38;5;241;43m=\u001B[39;49m\u001B[43murl\u001B[49m\u001B[43m,\u001B[49m\n\u001B[1;32m    489\u001B[0m \u001B[43m        \u001B[49m\u001B[43mbody\u001B[49m\u001B[38;5;241;43m=\u001B[39;49m\u001B[43mrequest\u001B[49m\u001B[38;5;241;43m.\u001B[39;49m\u001B[43mbody\u001B[49m\u001B[43m,\u001B[49m\n\u001B[1;32m    490\u001B[0m \u001B[43m        \u001B[49m\u001B[43mheaders\u001B[49m\u001B[38;5;241;43m=\u001B[39;49m\u001B[43mrequest\u001B[49m\u001B[38;5;241;43m.\u001B[39;49m\u001B[43mheaders\u001B[49m\u001B[43m,\u001B[49m\n\u001B[1;32m    491\u001B[0m \u001B[43m        \u001B[49m\u001B[43mredirect\u001B[49m\u001B[38;5;241;43m=\u001B[39;49m\u001B[38;5;28;43;01mFalse\u001B[39;49;00m\u001B[43m,\u001B[49m\n\u001B[1;32m    492\u001B[0m \u001B[43m        \u001B[49m\u001B[43massert_same_host\u001B[49m\u001B[38;5;241;43m=\u001B[39;49m\u001B[38;5;28;43;01mFalse\u001B[39;49;00m\u001B[43m,\u001B[49m\n\u001B[1;32m    493\u001B[0m \u001B[43m        \u001B[49m\u001B[43mpreload_content\u001B[49m\u001B[38;5;241;43m=\u001B[39;49m\u001B[38;5;28;43;01mFalse\u001B[39;49;00m\u001B[43m,\u001B[49m\n\u001B[1;32m    494\u001B[0m \u001B[43m        \u001B[49m\u001B[43mdecode_content\u001B[49m\u001B[38;5;241;43m=\u001B[39;49m\u001B[38;5;28;43;01mFalse\u001B[39;49;00m\u001B[43m,\u001B[49m\n\u001B[1;32m    495\u001B[0m \u001B[43m        \u001B[49m\u001B[43mretries\u001B[49m\u001B[38;5;241;43m=\u001B[39;49m\u001B[38;5;28;43mself\u001B[39;49m\u001B[38;5;241;43m.\u001B[39;49m\u001B[43mmax_retries\u001B[49m\u001B[43m,\u001B[49m\n\u001B[1;32m    496\u001B[0m \u001B[43m        \u001B[49m\u001B[43mtimeout\u001B[49m\u001B[38;5;241;43m=\u001B[39;49m\u001B[43mtimeout\u001B[49m\u001B[43m,\u001B[49m\n\u001B[1;32m    497\u001B[0m \u001B[43m        \u001B[49m\u001B[43mchunked\u001B[49m\u001B[38;5;241;43m=\u001B[39;49m\u001B[43mchunked\u001B[49m\u001B[43m,\u001B[49m\n\u001B[1;32m    498\u001B[0m \u001B[43m    \u001B[49m\u001B[43m)\u001B[49m\n\u001B[1;32m    500\u001B[0m \u001B[38;5;28;01mexcept\u001B[39;00m (ProtocolError, \u001B[38;5;167;01mOSError\u001B[39;00m) \u001B[38;5;28;01mas\u001B[39;00m err:\n\u001B[1;32m    501\u001B[0m     \u001B[38;5;28;01mraise\u001B[39;00m \u001B[38;5;167;01mConnectionError\u001B[39;00m(err, request\u001B[38;5;241m=\u001B[39mrequest)\n",
      "File \u001B[0;32m~/anaconda3/envs/mexico_crime/lib/python3.11/site-packages/urllib3/connectionpool.py:790\u001B[0m, in \u001B[0;36mHTTPConnectionPool.urlopen\u001B[0;34m(self, method, url, body, headers, retries, redirect, assert_same_host, timeout, pool_timeout, release_conn, chunked, body_pos, preload_content, decode_content, **response_kw)\u001B[0m\n\u001B[1;32m    787\u001B[0m response_conn \u001B[38;5;241m=\u001B[39m conn \u001B[38;5;28;01mif\u001B[39;00m \u001B[38;5;129;01mnot\u001B[39;00m release_conn \u001B[38;5;28;01melse\u001B[39;00m \u001B[38;5;28;01mNone\u001B[39;00m\n\u001B[1;32m    789\u001B[0m \u001B[38;5;66;03m# Make the request on the HTTPConnection object\u001B[39;00m\n\u001B[0;32m--> 790\u001B[0m response \u001B[38;5;241m=\u001B[39m \u001B[38;5;28;43mself\u001B[39;49m\u001B[38;5;241;43m.\u001B[39;49m\u001B[43m_make_request\u001B[49m\u001B[43m(\u001B[49m\n\u001B[1;32m    791\u001B[0m \u001B[43m    \u001B[49m\u001B[43mconn\u001B[49m\u001B[43m,\u001B[49m\n\u001B[1;32m    792\u001B[0m \u001B[43m    \u001B[49m\u001B[43mmethod\u001B[49m\u001B[43m,\u001B[49m\n\u001B[1;32m    793\u001B[0m \u001B[43m    \u001B[49m\u001B[43murl\u001B[49m\u001B[43m,\u001B[49m\n\u001B[1;32m    794\u001B[0m \u001B[43m    \u001B[49m\u001B[43mtimeout\u001B[49m\u001B[38;5;241;43m=\u001B[39;49m\u001B[43mtimeout_obj\u001B[49m\u001B[43m,\u001B[49m\n\u001B[1;32m    795\u001B[0m \u001B[43m    \u001B[49m\u001B[43mbody\u001B[49m\u001B[38;5;241;43m=\u001B[39;49m\u001B[43mbody\u001B[49m\u001B[43m,\u001B[49m\n\u001B[1;32m    796\u001B[0m \u001B[43m    \u001B[49m\u001B[43mheaders\u001B[49m\u001B[38;5;241;43m=\u001B[39;49m\u001B[43mheaders\u001B[49m\u001B[43m,\u001B[49m\n\u001B[1;32m    797\u001B[0m \u001B[43m    \u001B[49m\u001B[43mchunked\u001B[49m\u001B[38;5;241;43m=\u001B[39;49m\u001B[43mchunked\u001B[49m\u001B[43m,\u001B[49m\n\u001B[1;32m    798\u001B[0m \u001B[43m    \u001B[49m\u001B[43mretries\u001B[49m\u001B[38;5;241;43m=\u001B[39;49m\u001B[43mretries\u001B[49m\u001B[43m,\u001B[49m\n\u001B[1;32m    799\u001B[0m \u001B[43m    \u001B[49m\u001B[43mresponse_conn\u001B[49m\u001B[38;5;241;43m=\u001B[39;49m\u001B[43mresponse_conn\u001B[49m\u001B[43m,\u001B[49m\n\u001B[1;32m    800\u001B[0m \u001B[43m    \u001B[49m\u001B[43mpreload_content\u001B[49m\u001B[38;5;241;43m=\u001B[39;49m\u001B[43mpreload_content\u001B[49m\u001B[43m,\u001B[49m\n\u001B[1;32m    801\u001B[0m \u001B[43m    \u001B[49m\u001B[43mdecode_content\u001B[49m\u001B[38;5;241;43m=\u001B[39;49m\u001B[43mdecode_content\u001B[49m\u001B[43m,\u001B[49m\n\u001B[1;32m    802\u001B[0m \u001B[43m    \u001B[49m\u001B[38;5;241;43m*\u001B[39;49m\u001B[38;5;241;43m*\u001B[39;49m\u001B[43mresponse_kw\u001B[49m\u001B[43m,\u001B[49m\n\u001B[1;32m    803\u001B[0m \u001B[43m\u001B[49m\u001B[43m)\u001B[49m\n\u001B[1;32m    805\u001B[0m \u001B[38;5;66;03m# Everything went great!\u001B[39;00m\n\u001B[1;32m    806\u001B[0m clean_exit \u001B[38;5;241m=\u001B[39m \u001B[38;5;28;01mTrue\u001B[39;00m\n",
      "File \u001B[0;32m~/anaconda3/envs/mexico_crime/lib/python3.11/site-packages/urllib3/connectionpool.py:536\u001B[0m, in \u001B[0;36mHTTPConnectionPool._make_request\u001B[0;34m(self, conn, method, url, body, headers, retries, timeout, chunked, response_conn, preload_content, decode_content, enforce_content_length)\u001B[0m\n\u001B[1;32m    534\u001B[0m \u001B[38;5;66;03m# Receive the response from the server\u001B[39;00m\n\u001B[1;32m    535\u001B[0m \u001B[38;5;28;01mtry\u001B[39;00m:\n\u001B[0;32m--> 536\u001B[0m     response \u001B[38;5;241m=\u001B[39m \u001B[43mconn\u001B[49m\u001B[38;5;241;43m.\u001B[39;49m\u001B[43mgetresponse\u001B[49m\u001B[43m(\u001B[49m\u001B[43m)\u001B[49m\n\u001B[1;32m    537\u001B[0m \u001B[38;5;28;01mexcept\u001B[39;00m (BaseSSLError, \u001B[38;5;167;01mOSError\u001B[39;00m) \u001B[38;5;28;01mas\u001B[39;00m e:\n\u001B[1;32m    538\u001B[0m     \u001B[38;5;28mself\u001B[39m\u001B[38;5;241m.\u001B[39m_raise_timeout(err\u001B[38;5;241m=\u001B[39me, url\u001B[38;5;241m=\u001B[39murl, timeout_value\u001B[38;5;241m=\u001B[39mread_timeout)\n",
      "File \u001B[0;32m~/anaconda3/envs/mexico_crime/lib/python3.11/site-packages/urllib3/connection.py:461\u001B[0m, in \u001B[0;36mHTTPConnection.getresponse\u001B[0;34m(self)\u001B[0m\n\u001B[1;32m    458\u001B[0m \u001B[38;5;28;01mfrom\u001B[39;00m \u001B[38;5;21;01m.\u001B[39;00m\u001B[38;5;21;01mresponse\u001B[39;00m \u001B[38;5;28;01mimport\u001B[39;00m HTTPResponse\n\u001B[1;32m    460\u001B[0m \u001B[38;5;66;03m# Get the response from http.client.HTTPConnection\u001B[39;00m\n\u001B[0;32m--> 461\u001B[0m httplib_response \u001B[38;5;241m=\u001B[39m \u001B[38;5;28;43msuper\u001B[39;49m\u001B[43m(\u001B[49m\u001B[43m)\u001B[49m\u001B[38;5;241;43m.\u001B[39;49m\u001B[43mgetresponse\u001B[49m\u001B[43m(\u001B[49m\u001B[43m)\u001B[49m\n\u001B[1;32m    463\u001B[0m \u001B[38;5;28;01mtry\u001B[39;00m:\n\u001B[1;32m    464\u001B[0m     assert_header_parsing(httplib_response\u001B[38;5;241m.\u001B[39mmsg)\n",
      "File \u001B[0;32m~/anaconda3/envs/mexico_crime/lib/python3.11/http/client.py:1378\u001B[0m, in \u001B[0;36mHTTPConnection.getresponse\u001B[0;34m(self)\u001B[0m\n\u001B[1;32m   1376\u001B[0m \u001B[38;5;28;01mtry\u001B[39;00m:\n\u001B[1;32m   1377\u001B[0m     \u001B[38;5;28;01mtry\u001B[39;00m:\n\u001B[0;32m-> 1378\u001B[0m         \u001B[43mresponse\u001B[49m\u001B[38;5;241;43m.\u001B[39;49m\u001B[43mbegin\u001B[49m\u001B[43m(\u001B[49m\u001B[43m)\u001B[49m\n\u001B[1;32m   1379\u001B[0m     \u001B[38;5;28;01mexcept\u001B[39;00m \u001B[38;5;167;01mConnectionError\u001B[39;00m:\n\u001B[1;32m   1380\u001B[0m         \u001B[38;5;28mself\u001B[39m\u001B[38;5;241m.\u001B[39mclose()\n",
      "File \u001B[0;32m~/anaconda3/envs/mexico_crime/lib/python3.11/http/client.py:318\u001B[0m, in \u001B[0;36mHTTPResponse.begin\u001B[0;34m(self)\u001B[0m\n\u001B[1;32m    316\u001B[0m \u001B[38;5;66;03m# read until we get a non-100 response\u001B[39;00m\n\u001B[1;32m    317\u001B[0m \u001B[38;5;28;01mwhile\u001B[39;00m \u001B[38;5;28;01mTrue\u001B[39;00m:\n\u001B[0;32m--> 318\u001B[0m     version, status, reason \u001B[38;5;241m=\u001B[39m \u001B[38;5;28;43mself\u001B[39;49m\u001B[38;5;241;43m.\u001B[39;49m\u001B[43m_read_status\u001B[49m\u001B[43m(\u001B[49m\u001B[43m)\u001B[49m\n\u001B[1;32m    319\u001B[0m     \u001B[38;5;28;01mif\u001B[39;00m status \u001B[38;5;241m!=\u001B[39m CONTINUE:\n\u001B[1;32m    320\u001B[0m         \u001B[38;5;28;01mbreak\u001B[39;00m\n",
      "File \u001B[0;32m~/anaconda3/envs/mexico_crime/lib/python3.11/http/client.py:279\u001B[0m, in \u001B[0;36mHTTPResponse._read_status\u001B[0;34m(self)\u001B[0m\n\u001B[1;32m    278\u001B[0m \u001B[38;5;28;01mdef\u001B[39;00m \u001B[38;5;21m_read_status\u001B[39m(\u001B[38;5;28mself\u001B[39m):\n\u001B[0;32m--> 279\u001B[0m     line \u001B[38;5;241m=\u001B[39m \u001B[38;5;28mstr\u001B[39m(\u001B[38;5;28mself\u001B[39m\u001B[38;5;241m.\u001B[39mfp\u001B[38;5;241m.\u001B[39mreadline(_MAXLINE \u001B[38;5;241m+\u001B[39m \u001B[38;5;241m1\u001B[39m), \u001B[38;5;124m\"\u001B[39m\u001B[38;5;124miso-8859-1\u001B[39m\u001B[38;5;124m\"\u001B[39m)\n\u001B[1;32m    280\u001B[0m     \u001B[38;5;28;01mif\u001B[39;00m \u001B[38;5;28mlen\u001B[39m(line) \u001B[38;5;241m>\u001B[39m _MAXLINE:\n\u001B[1;32m    281\u001B[0m         \u001B[38;5;28;01mraise\u001B[39;00m LineTooLong(\u001B[38;5;124m\"\u001B[39m\u001B[38;5;124mstatus line\u001B[39m\u001B[38;5;124m\"\u001B[39m)\n",
      "File \u001B[0;32m~/anaconda3/envs/mexico_crime/lib/python3.11/socket.py:706\u001B[0m, in \u001B[0;36mSocketIO.readinto\u001B[0;34m(self, b)\u001B[0m\n\u001B[1;32m    704\u001B[0m \u001B[38;5;28;01mwhile\u001B[39;00m \u001B[38;5;28;01mTrue\u001B[39;00m:\n\u001B[1;32m    705\u001B[0m     \u001B[38;5;28;01mtry\u001B[39;00m:\n\u001B[0;32m--> 706\u001B[0m         \u001B[38;5;28;01mreturn\u001B[39;00m \u001B[38;5;28;43mself\u001B[39;49m\u001B[38;5;241;43m.\u001B[39;49m\u001B[43m_sock\u001B[49m\u001B[38;5;241;43m.\u001B[39;49m\u001B[43mrecv_into\u001B[49m\u001B[43m(\u001B[49m\u001B[43mb\u001B[49m\u001B[43m)\u001B[49m\n\u001B[1;32m    707\u001B[0m     \u001B[38;5;28;01mexcept\u001B[39;00m timeout:\n\u001B[1;32m    708\u001B[0m         \u001B[38;5;28mself\u001B[39m\u001B[38;5;241m.\u001B[39m_timeout_occurred \u001B[38;5;241m=\u001B[39m \u001B[38;5;28;01mTrue\u001B[39;00m\n",
      "\u001B[0;31mKeyboardInterrupt\u001B[0m: "
     ]
    }
   ],
   "source": [
    "from translate import Translator\n",
    "\n",
    "translator = Translator(to_lang=\"en\", from_lang=\"es\", provider='mymemory')\n",
    "translation_cache = {}\n",
    "\n",
    "translated_df = crimes_df.copy()\n",
    "\n",
    "new_columns = []\n",
    "for col in crimes_df.columns:\n",
    "    if col in translation_cache:\n",
    "        new_columns.append(translation_cache[col])\n",
    "    else:\n",
    "        translated_col = translator.translate(col)\n",
    "        translation_cache[col] = translated_col\n",
    "        new_columns.append(translated_col)\n",
    "\n",
    "translated_df.columns = new_columns\n",
    "\n",
    "for col in translated_df.columns:\n",
    "    unique_values = translated_df[col].unique()\n",
    "\n",
    "    for value in unique_values:\n",
    "        if value in translation_cache:\n",
    "            translated_value = translation_cache[value]\n",
    "        else:\n",
    "            translated_value = translator.translate(str(value))\n",
    "            translation_cache[value] = translated_value\n",
    "\n",
    "        translated_df[col].replace(value, translated_value, inplace=True)\n",
    "\n"
   ],
   "metadata": {
    "collapsed": false,
    "ExecuteTime": {
     "end_time": "2023-10-04T19:20:10.755591Z",
     "start_time": "2023-10-04T18:43:11.136190Z"
    }
   },
   "id": "de2bc3878d4e52e0"
  },
  {
   "cell_type": "code",
   "execution_count": 5,
   "outputs": [
    {
     "data": {
      "text/plain": "        Año  Clave_Ent         Entidad  \\\n0      2015          1  Aguascalientes   \n1      2015          1  Aguascalientes   \n2      2015          1  Aguascalientes   \n3      2015          1  Aguascalientes   \n4      2015          1  Aguascalientes   \n...     ...        ...             ...   \n28219  2023         32       Zacatecas   \n28220  2023         32       Zacatecas   \n28221  2023         32       Zacatecas   \n28222  2023         32       Zacatecas   \n28223  2023         32       Zacatecas   \n\n                                  Bien jurídico afectado  \\\n0                       La vida y la Integridad corporal   \n1                       La vida y la Integridad corporal   \n2                       La vida y la Integridad corporal   \n3                       La vida y la Integridad corporal   \n4                       La vida y la Integridad corporal   \n...                                                  ...   \n28219  Otros bienes jurídicos afectados (del fuero co...   \n28220  Otros bienes jurídicos afectados (del fuero co...   \n28221  Otros bienes jurídicos afectados (del fuero co...   \n28222  Otros bienes jurídicos afectados (del fuero co...   \n28223  Otros bienes jurídicos afectados (del fuero co...   \n\n                                  Tipo de delito  \\\n0                                      Homicidio   \n1                                      Homicidio   \n2                                      Homicidio   \n3                                      Homicidio   \n4                                      Homicidio   \n...                                          ...   \n28219                              Falsificación   \n28220                   Contra el medio ambiente   \n28221  Delitos cometidos por servidores públicos   \n28222                                Electorales   \n28223              Otros delitos del Fuero Común   \n\n                               Subtipo de delito  \\\n0                               Homicidio doloso   \n1                               Homicidio doloso   \n2                               Homicidio doloso   \n3                               Homicidio doloso   \n4                              Homicidio culposo   \n...                                          ...   \n28219                              Falsificación   \n28220                   Contra el medio ambiente   \n28221  Delitos cometidos por servidores públicos   \n28222                                Electorales   \n28223              Otros delitos del Fuero Común   \n\n                                       Modalidad  Enero  Febrero  Marzo  \\\n0                              Con arma de fuego      3        0      2   \n1                                Con arma blanca      1        1      0   \n2                              Con otro elemento      0        0      2   \n3                                No especificado      2        0      0   \n4                              Con arma de fuego      0        0      0   \n...                                          ...    ...      ...    ...   \n28219                              Falsificación     15        7     11   \n28220                   Contra el medio ambiente      0        1      0   \n28221  Delitos cometidos por servidores públicos     16       20     27   \n28222                                Electorales      0        0      0   \n28223              Otros delitos del Fuero Común    149      139    194   \n\n       Abril  Mayo  Junio  Julio  Agosto  Septiembre  Octubre  Noviembre  \\\n0          1     1      1      2       1         2.0      2.0        2.0   \n1          0     0      1      0       1         0.0      0.0        0.0   \n2          2     3      2      0       1         2.0      0.0        0.0   \n3          1     0      0      0       0         0.0      0.0        0.0   \n4          0     1      0      0       0         0.0      0.0        0.0   \n...      ...   ...    ...    ...     ...         ...      ...        ...   \n28219     10     6      9      9       2         NaN      NaN        NaN   \n28220      0     1      2      0       0         NaN      NaN        NaN   \n28221     23    25     32     25      13         NaN      NaN        NaN   \n28222      2     0      1      1       1         NaN      NaN        NaN   \n28223    184   240    208    172     137         NaN      NaN        NaN   \n\n       Diciembre  \n0            1.0  \n1            1.0  \n2            0.0  \n3            0.0  \n4            0.0  \n...          ...  \n28219        NaN  \n28220        NaN  \n28221        NaN  \n28222        NaN  \n28223        NaN  \n\n[28224 rows x 19 columns]",
      "text/html": "<div>\n<style scoped>\n    .dataframe tbody tr th:only-of-type {\n        vertical-align: middle;\n    }\n\n    .dataframe tbody tr th {\n        vertical-align: top;\n    }\n\n    .dataframe thead th {\n        text-align: right;\n    }\n</style>\n<table border=\"1\" class=\"dataframe\">\n  <thead>\n    <tr style=\"text-align: right;\">\n      <th></th>\n      <th>Año</th>\n      <th>Clave_Ent</th>\n      <th>Entidad</th>\n      <th>Bien jurídico afectado</th>\n      <th>Tipo de delito</th>\n      <th>Subtipo de delito</th>\n      <th>Modalidad</th>\n      <th>Enero</th>\n      <th>Febrero</th>\n      <th>Marzo</th>\n      <th>Abril</th>\n      <th>Mayo</th>\n      <th>Junio</th>\n      <th>Julio</th>\n      <th>Agosto</th>\n      <th>Septiembre</th>\n      <th>Octubre</th>\n      <th>Noviembre</th>\n      <th>Diciembre</th>\n    </tr>\n  </thead>\n  <tbody>\n    <tr>\n      <th>0</th>\n      <td>2015</td>\n      <td>1</td>\n      <td>Aguascalientes</td>\n      <td>La vida y la Integridad corporal</td>\n      <td>Homicidio</td>\n      <td>Homicidio doloso</td>\n      <td>Con arma de fuego</td>\n      <td>3</td>\n      <td>0</td>\n      <td>2</td>\n      <td>1</td>\n      <td>1</td>\n      <td>1</td>\n      <td>2</td>\n      <td>1</td>\n      <td>2.0</td>\n      <td>2.0</td>\n      <td>2.0</td>\n      <td>1.0</td>\n    </tr>\n    <tr>\n      <th>1</th>\n      <td>2015</td>\n      <td>1</td>\n      <td>Aguascalientes</td>\n      <td>La vida y la Integridad corporal</td>\n      <td>Homicidio</td>\n      <td>Homicidio doloso</td>\n      <td>Con arma blanca</td>\n      <td>1</td>\n      <td>1</td>\n      <td>0</td>\n      <td>0</td>\n      <td>0</td>\n      <td>1</td>\n      <td>0</td>\n      <td>1</td>\n      <td>0.0</td>\n      <td>0.0</td>\n      <td>0.0</td>\n      <td>1.0</td>\n    </tr>\n    <tr>\n      <th>2</th>\n      <td>2015</td>\n      <td>1</td>\n      <td>Aguascalientes</td>\n      <td>La vida y la Integridad corporal</td>\n      <td>Homicidio</td>\n      <td>Homicidio doloso</td>\n      <td>Con otro elemento</td>\n      <td>0</td>\n      <td>0</td>\n      <td>2</td>\n      <td>2</td>\n      <td>3</td>\n      <td>2</td>\n      <td>0</td>\n      <td>1</td>\n      <td>2.0</td>\n      <td>0.0</td>\n      <td>0.0</td>\n      <td>0.0</td>\n    </tr>\n    <tr>\n      <th>3</th>\n      <td>2015</td>\n      <td>1</td>\n      <td>Aguascalientes</td>\n      <td>La vida y la Integridad corporal</td>\n      <td>Homicidio</td>\n      <td>Homicidio doloso</td>\n      <td>No especificado</td>\n      <td>2</td>\n      <td>0</td>\n      <td>0</td>\n      <td>1</td>\n      <td>0</td>\n      <td>0</td>\n      <td>0</td>\n      <td>0</td>\n      <td>0.0</td>\n      <td>0.0</td>\n      <td>0.0</td>\n      <td>0.0</td>\n    </tr>\n    <tr>\n      <th>4</th>\n      <td>2015</td>\n      <td>1</td>\n      <td>Aguascalientes</td>\n      <td>La vida y la Integridad corporal</td>\n      <td>Homicidio</td>\n      <td>Homicidio culposo</td>\n      <td>Con arma de fuego</td>\n      <td>0</td>\n      <td>0</td>\n      <td>0</td>\n      <td>0</td>\n      <td>1</td>\n      <td>0</td>\n      <td>0</td>\n      <td>0</td>\n      <td>0.0</td>\n      <td>0.0</td>\n      <td>0.0</td>\n      <td>0.0</td>\n    </tr>\n    <tr>\n      <th>...</th>\n      <td>...</td>\n      <td>...</td>\n      <td>...</td>\n      <td>...</td>\n      <td>...</td>\n      <td>...</td>\n      <td>...</td>\n      <td>...</td>\n      <td>...</td>\n      <td>...</td>\n      <td>...</td>\n      <td>...</td>\n      <td>...</td>\n      <td>...</td>\n      <td>...</td>\n      <td>...</td>\n      <td>...</td>\n      <td>...</td>\n      <td>...</td>\n    </tr>\n    <tr>\n      <th>28219</th>\n      <td>2023</td>\n      <td>32</td>\n      <td>Zacatecas</td>\n      <td>Otros bienes jurídicos afectados (del fuero co...</td>\n      <td>Falsificación</td>\n      <td>Falsificación</td>\n      <td>Falsificación</td>\n      <td>15</td>\n      <td>7</td>\n      <td>11</td>\n      <td>10</td>\n      <td>6</td>\n      <td>9</td>\n      <td>9</td>\n      <td>2</td>\n      <td>NaN</td>\n      <td>NaN</td>\n      <td>NaN</td>\n      <td>NaN</td>\n    </tr>\n    <tr>\n      <th>28220</th>\n      <td>2023</td>\n      <td>32</td>\n      <td>Zacatecas</td>\n      <td>Otros bienes jurídicos afectados (del fuero co...</td>\n      <td>Contra el medio ambiente</td>\n      <td>Contra el medio ambiente</td>\n      <td>Contra el medio ambiente</td>\n      <td>0</td>\n      <td>1</td>\n      <td>0</td>\n      <td>0</td>\n      <td>1</td>\n      <td>2</td>\n      <td>0</td>\n      <td>0</td>\n      <td>NaN</td>\n      <td>NaN</td>\n      <td>NaN</td>\n      <td>NaN</td>\n    </tr>\n    <tr>\n      <th>28221</th>\n      <td>2023</td>\n      <td>32</td>\n      <td>Zacatecas</td>\n      <td>Otros bienes jurídicos afectados (del fuero co...</td>\n      <td>Delitos cometidos por servidores públicos</td>\n      <td>Delitos cometidos por servidores públicos</td>\n      <td>Delitos cometidos por servidores públicos</td>\n      <td>16</td>\n      <td>20</td>\n      <td>27</td>\n      <td>23</td>\n      <td>25</td>\n      <td>32</td>\n      <td>25</td>\n      <td>13</td>\n      <td>NaN</td>\n      <td>NaN</td>\n      <td>NaN</td>\n      <td>NaN</td>\n    </tr>\n    <tr>\n      <th>28222</th>\n      <td>2023</td>\n      <td>32</td>\n      <td>Zacatecas</td>\n      <td>Otros bienes jurídicos afectados (del fuero co...</td>\n      <td>Electorales</td>\n      <td>Electorales</td>\n      <td>Electorales</td>\n      <td>0</td>\n      <td>0</td>\n      <td>0</td>\n      <td>2</td>\n      <td>0</td>\n      <td>1</td>\n      <td>1</td>\n      <td>1</td>\n      <td>NaN</td>\n      <td>NaN</td>\n      <td>NaN</td>\n      <td>NaN</td>\n    </tr>\n    <tr>\n      <th>28223</th>\n      <td>2023</td>\n      <td>32</td>\n      <td>Zacatecas</td>\n      <td>Otros bienes jurídicos afectados (del fuero co...</td>\n      <td>Otros delitos del Fuero Común</td>\n      <td>Otros delitos del Fuero Común</td>\n      <td>Otros delitos del Fuero Común</td>\n      <td>149</td>\n      <td>139</td>\n      <td>194</td>\n      <td>184</td>\n      <td>240</td>\n      <td>208</td>\n      <td>172</td>\n      <td>137</td>\n      <td>NaN</td>\n      <td>NaN</td>\n      <td>NaN</td>\n      <td>NaN</td>\n    </tr>\n  </tbody>\n</table>\n<p>28224 rows × 19 columns</p>\n</div>"
     },
     "execution_count": 5,
     "metadata": {},
     "output_type": "execute_result"
    }
   ],
   "source": [
    "translated_df"
   ],
   "metadata": {
    "collapsed": false,
    "ExecuteTime": {
     "end_time": "2023-10-04T18:43:04.360541Z",
     "start_time": "2023-10-04T18:43:04.320272Z"
    }
   },
   "id": "6319add2603774b0"
  },
  {
   "cell_type": "markdown",
   "source": [
    "### Type of crimes"
   ],
   "metadata": {
    "collapsed": false
   },
   "id": "db886be464d06752"
  },
  {
   "cell_type": "code",
   "execution_count": 8,
   "outputs": [
    {
     "ename": "KeyError",
     "evalue": "'Type of Crime'",
     "output_type": "error",
     "traceback": [
      "\u001B[0;31m---------------------------------------------------------------------------\u001B[0m",
      "\u001B[0;31mKeyError\u001B[0m                                  Traceback (most recent call last)",
      "File \u001B[0;32m~/anaconda3/envs/mexico_crime/lib/python3.11/site-packages/pandas/core/indexes/base.py:3653\u001B[0m, in \u001B[0;36mIndex.get_loc\u001B[0;34m(self, key)\u001B[0m\n\u001B[1;32m   3652\u001B[0m \u001B[38;5;28;01mtry\u001B[39;00m:\n\u001B[0;32m-> 3653\u001B[0m     \u001B[38;5;28;01mreturn\u001B[39;00m \u001B[38;5;28;43mself\u001B[39;49m\u001B[38;5;241;43m.\u001B[39;49m\u001B[43m_engine\u001B[49m\u001B[38;5;241;43m.\u001B[39;49m\u001B[43mget_loc\u001B[49m\u001B[43m(\u001B[49m\u001B[43mcasted_key\u001B[49m\u001B[43m)\u001B[49m\n\u001B[1;32m   3654\u001B[0m \u001B[38;5;28;01mexcept\u001B[39;00m \u001B[38;5;167;01mKeyError\u001B[39;00m \u001B[38;5;28;01mas\u001B[39;00m err:\n",
      "File \u001B[0;32m~/anaconda3/envs/mexico_crime/lib/python3.11/site-packages/pandas/_libs/index.pyx:147\u001B[0m, in \u001B[0;36mpandas._libs.index.IndexEngine.get_loc\u001B[0;34m()\u001B[0m\n",
      "File \u001B[0;32m~/anaconda3/envs/mexico_crime/lib/python3.11/site-packages/pandas/_libs/index.pyx:176\u001B[0m, in \u001B[0;36mpandas._libs.index.IndexEngine.get_loc\u001B[0;34m()\u001B[0m\n",
      "File \u001B[0;32mpandas/_libs/hashtable_class_helper.pxi:7080\u001B[0m, in \u001B[0;36mpandas._libs.hashtable.PyObjectHashTable.get_item\u001B[0;34m()\u001B[0m\n",
      "File \u001B[0;32mpandas/_libs/hashtable_class_helper.pxi:7088\u001B[0m, in \u001B[0;36mpandas._libs.hashtable.PyObjectHashTable.get_item\u001B[0;34m()\u001B[0m\n",
      "\u001B[0;31mKeyError\u001B[0m: 'Type of Crime'",
      "\nThe above exception was the direct cause of the following exception:\n",
      "\u001B[0;31mKeyError\u001B[0m                                  Traceback (most recent call last)",
      "Cell \u001B[0;32mIn[8], line 1\u001B[0m\n\u001B[0;32m----> 1\u001B[0m crime_type_counts \u001B[38;5;241m=\u001B[39m \u001B[43mcrimes_df\u001B[49m\u001B[43m[\u001B[49m\u001B[38;5;124;43m'\u001B[39;49m\u001B[38;5;124;43mType of Crime\u001B[39;49m\u001B[38;5;124;43m'\u001B[39;49m\u001B[43m]\u001B[49m\u001B[38;5;241m.\u001B[39mvalue_counts()\n\u001B[1;32m      2\u001B[0m crime_type_counts\n",
      "File \u001B[0;32m~/anaconda3/envs/mexico_crime/lib/python3.11/site-packages/pandas/core/frame.py:3761\u001B[0m, in \u001B[0;36mDataFrame.__getitem__\u001B[0;34m(self, key)\u001B[0m\n\u001B[1;32m   3759\u001B[0m \u001B[38;5;28;01mif\u001B[39;00m \u001B[38;5;28mself\u001B[39m\u001B[38;5;241m.\u001B[39mcolumns\u001B[38;5;241m.\u001B[39mnlevels \u001B[38;5;241m>\u001B[39m \u001B[38;5;241m1\u001B[39m:\n\u001B[1;32m   3760\u001B[0m     \u001B[38;5;28;01mreturn\u001B[39;00m \u001B[38;5;28mself\u001B[39m\u001B[38;5;241m.\u001B[39m_getitem_multilevel(key)\n\u001B[0;32m-> 3761\u001B[0m indexer \u001B[38;5;241m=\u001B[39m \u001B[38;5;28;43mself\u001B[39;49m\u001B[38;5;241;43m.\u001B[39;49m\u001B[43mcolumns\u001B[49m\u001B[38;5;241;43m.\u001B[39;49m\u001B[43mget_loc\u001B[49m\u001B[43m(\u001B[49m\u001B[43mkey\u001B[49m\u001B[43m)\u001B[49m\n\u001B[1;32m   3762\u001B[0m \u001B[38;5;28;01mif\u001B[39;00m is_integer(indexer):\n\u001B[1;32m   3763\u001B[0m     indexer \u001B[38;5;241m=\u001B[39m [indexer]\n",
      "File \u001B[0;32m~/anaconda3/envs/mexico_crime/lib/python3.11/site-packages/pandas/core/indexes/base.py:3655\u001B[0m, in \u001B[0;36mIndex.get_loc\u001B[0;34m(self, key)\u001B[0m\n\u001B[1;32m   3653\u001B[0m     \u001B[38;5;28;01mreturn\u001B[39;00m \u001B[38;5;28mself\u001B[39m\u001B[38;5;241m.\u001B[39m_engine\u001B[38;5;241m.\u001B[39mget_loc(casted_key)\n\u001B[1;32m   3654\u001B[0m \u001B[38;5;28;01mexcept\u001B[39;00m \u001B[38;5;167;01mKeyError\u001B[39;00m \u001B[38;5;28;01mas\u001B[39;00m err:\n\u001B[0;32m-> 3655\u001B[0m     \u001B[38;5;28;01mraise\u001B[39;00m \u001B[38;5;167;01mKeyError\u001B[39;00m(key) \u001B[38;5;28;01mfrom\u001B[39;00m \u001B[38;5;21;01merr\u001B[39;00m\n\u001B[1;32m   3656\u001B[0m \u001B[38;5;28;01mexcept\u001B[39;00m \u001B[38;5;167;01mTypeError\u001B[39;00m:\n\u001B[1;32m   3657\u001B[0m     \u001B[38;5;66;03m# If we have a listlike key, _check_indexing_error will raise\u001B[39;00m\n\u001B[1;32m   3658\u001B[0m     \u001B[38;5;66;03m#  InvalidIndexError. Otherwise we fall through and re-raise\u001B[39;00m\n\u001B[1;32m   3659\u001B[0m     \u001B[38;5;66;03m#  the TypeError.\u001B[39;00m\n\u001B[1;32m   3660\u001B[0m     \u001B[38;5;28mself\u001B[39m\u001B[38;5;241m.\u001B[39m_check_indexing_error(key)\n",
      "\u001B[0;31mKeyError\u001B[0m: 'Type of Crime'"
     ]
    }
   ],
   "source": [
    "crime_type_counts = crimes_df['Type of Crime'].value_counts()\n",
    "crime_type_counts"
   ],
   "metadata": {
    "collapsed": false,
    "ExecuteTime": {
     "end_time": "2023-10-04T08:04:57.329510Z",
     "start_time": "2023-10-04T08:04:56.963663Z"
    }
   },
   "id": "3aa347e25e4d06aa"
  },
  {
   "cell_type": "code",
   "execution_count": 10,
   "outputs": [
    {
     "data": {
      "text/plain": "        Año  Clave_Ent         Entidad  \\\n0      2015          1  Aguascalientes   \n1      2015          1  Aguascalientes   \n2      2015          1  Aguascalientes   \n3      2015          1  Aguascalientes   \n4      2015          1  Aguascalientes   \n...     ...        ...             ...   \n28219  2023         32       Zacatecas   \n28220  2023         32       Zacatecas   \n28221  2023         32       Zacatecas   \n28222  2023         32       Zacatecas   \n28223  2023         32       Zacatecas   \n\n                                  Bien jurídico afectado  \\\n0                       La vida y la Integridad corporal   \n1                       La vida y la Integridad corporal   \n2                       La vida y la Integridad corporal   \n3                       La vida y la Integridad corporal   \n4                       La vida y la Integridad corporal   \n...                                                  ...   \n28219  Otros bienes jurídicos afectados (del fuero co...   \n28220  Otros bienes jurídicos afectados (del fuero co...   \n28221  Otros bienes jurídicos afectados (del fuero co...   \n28222  Otros bienes jurídicos afectados (del fuero co...   \n28223  Otros bienes jurídicos afectados (del fuero co...   \n\n                                  Tipo de delito  \\\n0                                      Homicidio   \n1                                      Homicidio   \n2                                      Homicidio   \n3                                      Homicidio   \n4                                      Homicidio   \n...                                          ...   \n28219                              Falsificación   \n28220                   Contra el medio ambiente   \n28221  Delitos cometidos por servidores públicos   \n28222                                Electorales   \n28223              Otros delitos del Fuero Común   \n\n                               Subtipo de delito  \\\n0                               Homicidio doloso   \n1                               Homicidio doloso   \n2                               Homicidio doloso   \n3                               Homicidio doloso   \n4                              Homicidio culposo   \n...                                          ...   \n28219                              Falsificación   \n28220                   Contra el medio ambiente   \n28221  Delitos cometidos por servidores públicos   \n28222                                Electorales   \n28223              Otros delitos del Fuero Común   \n\n                                       Modalidad  Enero  Febrero  Marzo  \\\n0                              Con arma de fuego      3        0      2   \n1                                Con arma blanca      1        1      0   \n2                              Con otro elemento      0        0      2   \n3                                No especificado      2        0      0   \n4                              Con arma de fuego      0        0      0   \n...                                          ...    ...      ...    ...   \n28219                              Falsificación     15        7     11   \n28220                   Contra el medio ambiente      0        1      0   \n28221  Delitos cometidos por servidores públicos     16       20     27   \n28222                                Electorales      0        0      0   \n28223              Otros delitos del Fuero Común    149      139    194   \n\n       Abril  Mayo  Junio  Julio  Agosto  Septiembre  Octubre  Noviembre  \\\n0          1     1      1      2       1         2.0      2.0        2.0   \n1          0     0      1      0       1         0.0      0.0        0.0   \n2          2     3      2      0       1         2.0      0.0        0.0   \n3          1     0      0      0       0         0.0      0.0        0.0   \n4          0     1      0      0       0         0.0      0.0        0.0   \n...      ...   ...    ...    ...     ...         ...      ...        ...   \n28219     10     6      9      9       2         NaN      NaN        NaN   \n28220      0     1      2      0       0         NaN      NaN        NaN   \n28221     23    25     32     25      13         NaN      NaN        NaN   \n28222      2     0      1      1       1         NaN      NaN        NaN   \n28223    184   240    208    172     137         NaN      NaN        NaN   \n\n       Diciembre  \n0            1.0  \n1            1.0  \n2            0.0  \n3            0.0  \n4            0.0  \n...          ...  \n28219        NaN  \n28220        NaN  \n28221        NaN  \n28222        NaN  \n28223        NaN  \n\n[28224 rows x 19 columns]",
      "text/html": "<div>\n<style scoped>\n    .dataframe tbody tr th:only-of-type {\n        vertical-align: middle;\n    }\n\n    .dataframe tbody tr th {\n        vertical-align: top;\n    }\n\n    .dataframe thead th {\n        text-align: right;\n    }\n</style>\n<table border=\"1\" class=\"dataframe\">\n  <thead>\n    <tr style=\"text-align: right;\">\n      <th></th>\n      <th>Año</th>\n      <th>Clave_Ent</th>\n      <th>Entidad</th>\n      <th>Bien jurídico afectado</th>\n      <th>Tipo de delito</th>\n      <th>Subtipo de delito</th>\n      <th>Modalidad</th>\n      <th>Enero</th>\n      <th>Febrero</th>\n      <th>Marzo</th>\n      <th>Abril</th>\n      <th>Mayo</th>\n      <th>Junio</th>\n      <th>Julio</th>\n      <th>Agosto</th>\n      <th>Septiembre</th>\n      <th>Octubre</th>\n      <th>Noviembre</th>\n      <th>Diciembre</th>\n    </tr>\n  </thead>\n  <tbody>\n    <tr>\n      <th>0</th>\n      <td>2015</td>\n      <td>1</td>\n      <td>Aguascalientes</td>\n      <td>La vida y la Integridad corporal</td>\n      <td>Homicidio</td>\n      <td>Homicidio doloso</td>\n      <td>Con arma de fuego</td>\n      <td>3</td>\n      <td>0</td>\n      <td>2</td>\n      <td>1</td>\n      <td>1</td>\n      <td>1</td>\n      <td>2</td>\n      <td>1</td>\n      <td>2.0</td>\n      <td>2.0</td>\n      <td>2.0</td>\n      <td>1.0</td>\n    </tr>\n    <tr>\n      <th>1</th>\n      <td>2015</td>\n      <td>1</td>\n      <td>Aguascalientes</td>\n      <td>La vida y la Integridad corporal</td>\n      <td>Homicidio</td>\n      <td>Homicidio doloso</td>\n      <td>Con arma blanca</td>\n      <td>1</td>\n      <td>1</td>\n      <td>0</td>\n      <td>0</td>\n      <td>0</td>\n      <td>1</td>\n      <td>0</td>\n      <td>1</td>\n      <td>0.0</td>\n      <td>0.0</td>\n      <td>0.0</td>\n      <td>1.0</td>\n    </tr>\n    <tr>\n      <th>2</th>\n      <td>2015</td>\n      <td>1</td>\n      <td>Aguascalientes</td>\n      <td>La vida y la Integridad corporal</td>\n      <td>Homicidio</td>\n      <td>Homicidio doloso</td>\n      <td>Con otro elemento</td>\n      <td>0</td>\n      <td>0</td>\n      <td>2</td>\n      <td>2</td>\n      <td>3</td>\n      <td>2</td>\n      <td>0</td>\n      <td>1</td>\n      <td>2.0</td>\n      <td>0.0</td>\n      <td>0.0</td>\n      <td>0.0</td>\n    </tr>\n    <tr>\n      <th>3</th>\n      <td>2015</td>\n      <td>1</td>\n      <td>Aguascalientes</td>\n      <td>La vida y la Integridad corporal</td>\n      <td>Homicidio</td>\n      <td>Homicidio doloso</td>\n      <td>No especificado</td>\n      <td>2</td>\n      <td>0</td>\n      <td>0</td>\n      <td>1</td>\n      <td>0</td>\n      <td>0</td>\n      <td>0</td>\n      <td>0</td>\n      <td>0.0</td>\n      <td>0.0</td>\n      <td>0.0</td>\n      <td>0.0</td>\n    </tr>\n    <tr>\n      <th>4</th>\n      <td>2015</td>\n      <td>1</td>\n      <td>Aguascalientes</td>\n      <td>La vida y la Integridad corporal</td>\n      <td>Homicidio</td>\n      <td>Homicidio culposo</td>\n      <td>Con arma de fuego</td>\n      <td>0</td>\n      <td>0</td>\n      <td>0</td>\n      <td>0</td>\n      <td>1</td>\n      <td>0</td>\n      <td>0</td>\n      <td>0</td>\n      <td>0.0</td>\n      <td>0.0</td>\n      <td>0.0</td>\n      <td>0.0</td>\n    </tr>\n    <tr>\n      <th>...</th>\n      <td>...</td>\n      <td>...</td>\n      <td>...</td>\n      <td>...</td>\n      <td>...</td>\n      <td>...</td>\n      <td>...</td>\n      <td>...</td>\n      <td>...</td>\n      <td>...</td>\n      <td>...</td>\n      <td>...</td>\n      <td>...</td>\n      <td>...</td>\n      <td>...</td>\n      <td>...</td>\n      <td>...</td>\n      <td>...</td>\n      <td>...</td>\n    </tr>\n    <tr>\n      <th>28219</th>\n      <td>2023</td>\n      <td>32</td>\n      <td>Zacatecas</td>\n      <td>Otros bienes jurídicos afectados (del fuero co...</td>\n      <td>Falsificación</td>\n      <td>Falsificación</td>\n      <td>Falsificación</td>\n      <td>15</td>\n      <td>7</td>\n      <td>11</td>\n      <td>10</td>\n      <td>6</td>\n      <td>9</td>\n      <td>9</td>\n      <td>2</td>\n      <td>NaN</td>\n      <td>NaN</td>\n      <td>NaN</td>\n      <td>NaN</td>\n    </tr>\n    <tr>\n      <th>28220</th>\n      <td>2023</td>\n      <td>32</td>\n      <td>Zacatecas</td>\n      <td>Otros bienes jurídicos afectados (del fuero co...</td>\n      <td>Contra el medio ambiente</td>\n      <td>Contra el medio ambiente</td>\n      <td>Contra el medio ambiente</td>\n      <td>0</td>\n      <td>1</td>\n      <td>0</td>\n      <td>0</td>\n      <td>1</td>\n      <td>2</td>\n      <td>0</td>\n      <td>0</td>\n      <td>NaN</td>\n      <td>NaN</td>\n      <td>NaN</td>\n      <td>NaN</td>\n    </tr>\n    <tr>\n      <th>28221</th>\n      <td>2023</td>\n      <td>32</td>\n      <td>Zacatecas</td>\n      <td>Otros bienes jurídicos afectados (del fuero co...</td>\n      <td>Delitos cometidos por servidores públicos</td>\n      <td>Delitos cometidos por servidores públicos</td>\n      <td>Delitos cometidos por servidores públicos</td>\n      <td>16</td>\n      <td>20</td>\n      <td>27</td>\n      <td>23</td>\n      <td>25</td>\n      <td>32</td>\n      <td>25</td>\n      <td>13</td>\n      <td>NaN</td>\n      <td>NaN</td>\n      <td>NaN</td>\n      <td>NaN</td>\n    </tr>\n    <tr>\n      <th>28222</th>\n      <td>2023</td>\n      <td>32</td>\n      <td>Zacatecas</td>\n      <td>Otros bienes jurídicos afectados (del fuero co...</td>\n      <td>Electorales</td>\n      <td>Electorales</td>\n      <td>Electorales</td>\n      <td>0</td>\n      <td>0</td>\n      <td>0</td>\n      <td>2</td>\n      <td>0</td>\n      <td>1</td>\n      <td>1</td>\n      <td>1</td>\n      <td>NaN</td>\n      <td>NaN</td>\n      <td>NaN</td>\n      <td>NaN</td>\n    </tr>\n    <tr>\n      <th>28223</th>\n      <td>2023</td>\n      <td>32</td>\n      <td>Zacatecas</td>\n      <td>Otros bienes jurídicos afectados (del fuero co...</td>\n      <td>Otros delitos del Fuero Común</td>\n      <td>Otros delitos del Fuero Común</td>\n      <td>Otros delitos del Fuero Común</td>\n      <td>149</td>\n      <td>139</td>\n      <td>194</td>\n      <td>184</td>\n      <td>240</td>\n      <td>208</td>\n      <td>172</td>\n      <td>137</td>\n      <td>NaN</td>\n      <td>NaN</td>\n      <td>NaN</td>\n      <td>NaN</td>\n    </tr>\n  </tbody>\n</table>\n<p>28224 rows × 19 columns</p>\n</div>"
     },
     "execution_count": 10,
     "metadata": {},
     "output_type": "execute_result"
    }
   ],
   "source": [
    "crimes_df.count()"
   ],
   "metadata": {
    "collapsed": false,
    "ExecuteTime": {
     "end_time": "2023-10-04T08:16:16.056093Z",
     "start_time": "2023-10-04T08:16:15.967451Z"
    }
   },
   "id": "ed0c5a39ce4f5fb2"
  },
  {
   "cell_type": "code",
   "execution_count": null,
   "outputs": [],
   "source": [],
   "metadata": {
    "collapsed": false
   },
   "id": "c55a4beb0ec4069"
  }
 ],
 "metadata": {
  "kernelspec": {
   "display_name": "Python 3",
   "language": "python",
   "name": "python3"
  },
  "language_info": {
   "codemirror_mode": {
    "name": "ipython",
    "version": 2
   },
   "file_extension": ".py",
   "mimetype": "text/x-python",
   "name": "python",
   "nbconvert_exporter": "python",
   "pygments_lexer": "ipython2",
   "version": "2.7.6"
  }
 },
 "nbformat": 4,
 "nbformat_minor": 5
}
