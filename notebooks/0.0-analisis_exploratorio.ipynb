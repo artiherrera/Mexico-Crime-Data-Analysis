{
 "cells": [
  {
   "cell_type": "markdown",
   "source": [
    "### Import data"
   ],
   "metadata": {
    "collapsed": false
   },
   "id": "7b8c4ddf11177e84"
  },
  {
   "cell_type": "code",
   "execution_count": 4,
   "id": "initial_id",
   "metadata": {
    "collapsed": true,
    "ExecuteTime": {
     "end_time": "2023-10-04T08:02:03.525326Z",
     "start_time": "2023-10-04T08:02:03.473958Z"
    }
   },
   "outputs": [],
   "source": [
    "import pandas as pd\n",
    "import os\n",
    "crimes = os.path.join('..', 'data', 'IDEFC_NM_ago23.csv')\n",
    "crimes_df=pd.read_csv(crimes, encoding='ISO-8859-1')\n"
   ]
  },
  {
   "cell_type": "code",
   "execution_count": 7,
   "outputs": [],
   "source": [
    "### Population according to the INEGI 2020 census\n",
    "\n",
    "states_dict = {\n",
    "    'State': [\n",
    "        'Aguascalientes', 'Baja California', 'Baja California Sur', 'Campeche', 'Coahuila de Zaragoza',\n",
    "        'Colima', 'Chiapas', 'Chihuahua', 'Ciudad de México', 'Durango', 'Guanajuato', 'Guerrero',\n",
    "        'Hidalgo', 'Jalisco', 'México', 'Michoacán de Ocampo', 'Morelos', 'Nayarit', 'Nuevo León',\n",
    "        'Oaxaca', 'Puebla', 'Querétaro', 'Quintana Roo', 'San Luis Potosí', 'Sinaloa', 'Sonora',\n",
    "        'Tabasco', 'Tamaulipas', 'Tlaxcala', 'Veracruz de Ignacio de la Llave', 'Yucatán', 'Zacatecas'\n",
    "    ],\n",
    "    'Population': [\n",
    "        '1,425,607', '3,769,020', '798,447', '928,363', '3,146,771', '731,391', '5,543,828', '3,741,869',\n",
    "        '9,209,944', '1,832,650', '6,166,934', '3,540,685', '3,082,841', '8,348,151', '16,992,418',\n",
    "        '4,748,846', '1,971,520', '1,235,456', '5,784,442', '4,132,148', '6,583,278', '2,368,467',\n",
    "        '1,857,985', '2,822,255', '3,026,943', '2,944,840', '2,402,598', '3,527,735', '1,342,977',\n",
    "        '8,062,579', '2,320,898', '1,622,138'\n",
    "    ]\n",
    "}\n",
    "\n",
    "\n",
    "states_df = pd.DataFrame(states_dict)\n",
    "states_df['Población'] = states_df['Población'].str.replace(',', '').astype(int)\n"
   ],
   "metadata": {
    "collapsed": false,
    "ExecuteTime": {
     "end_time": "2023-10-04T08:04:12.556764Z",
     "start_time": "2023-10-04T08:04:12.543894Z"
    }
   },
   "id": "5a90166ff414412b"
  },
  {
   "cell_type": "markdown",
   "source": [
    "Dataframe size"
   ],
   "metadata": {
    "collapsed": false
   },
   "id": "3a9f859217e41b23"
  },
  {
   "cell_type": "code",
   "execution_count": null,
   "outputs": [],
   "source": [
    "print(crimes_df.shape, states_df.shape)\n"
   ],
   "metadata": {
    "collapsed": false,
    "ExecuteTime": {
     "start_time": "2023-09-30T16:58:25.532659Z"
    }
   },
   "id": "fdc1eadcea84e4d8"
  },
  {
   "cell_type": "markdown",
   "source": [
    "Data type"
   ],
   "metadata": {
    "collapsed": false
   },
   "id": "401e30fcee35b224"
  },
  {
   "cell_type": "code",
   "execution_count": 9,
   "outputs": [
    {
     "name": "stdout",
     "output_type": "stream",
     "text": [
      "Año                         int64\n",
      "Clave_Ent                   int64\n",
      "Entidad                    object\n",
      "Bien jurídico afectado     object\n",
      "Tipo de delito             object\n",
      "Subtipo de delito          object\n",
      "Modalidad                  object\n",
      "Enero                       int64\n",
      "Febrero                     int64\n",
      "Marzo                       int64\n",
      "Abril                       int64\n",
      "Mayo                        int64\n",
      "Junio                       int64\n",
      "Julio                       int64\n",
      "Agosto                      int64\n",
      "Septiembre                float64\n",
      "Octubre                   float64\n",
      "Noviembre                 float64\n",
      "Diciembre                 float64\n",
      "dtype: object Entidad      object\n",
      "Población     int64\n",
      "dtype: object\n"
     ]
    }
   ],
   "source": [
    "print( crimes_df.dtypes, states_df.dtypes)"
   ],
   "metadata": {
    "collapsed": false,
    "ExecuteTime": {
     "end_time": "2023-10-04T08:05:07.633657Z",
     "start_time": "2023-10-04T08:05:07.615425Z"
    }
   },
   "id": "dca43304ca652a5d"
  },
  {
   "cell_type": "markdown",
   "source": [
    "### Translating dataframes"
   ],
   "metadata": {
    "collapsed": false
   },
   "id": "73836de1b2e59d6"
  },
  {
   "cell_type": "code",
   "execution_count": null,
   "outputs": [],
   "source": [
    "from translate import Translator\n",
    "import pandas as pd\n",
    "\n",
    "# Inicializa el traductor (usando Google como proveedor de traducción en este ejemplo)\n",
    "translator = Translator(to_lang=\"en\", from_lang=\"es\", provider='mymemory')\n",
    "\n",
    "# Crea una copia del DataFrame para no modificar el original\n",
    "translated_df = crimes_df.copy()\n",
    "\n",
    "# Traduce los nombres de las columnas\n",
    "new_columns = [translator.translate(col) for col in crimes_df.columns]\n",
    "translated_df.columns = new_columns\n",
    "\n",
    "# Traduce los valores únicos para cada columna\n",
    "for col in translated_df.columns:\n",
    "    # Obtén los valores únicos en la columna\n",
    "    unique_values = translated_df[col].unique()\n",
    "\n",
    "    # Crea un diccionario para almacenar las traducciones\n",
    "    translations = {}\n",
    "\n",
    "    for value in unique_values:\n",
    "        # Traduce el valor y añádelo al diccionario\n",
    "        translated_value = translator.translate(str(value))\n",
    "        translations[value] = translated_value\n",
    "\n",
    "    # Reemplaza los valores en la columna con sus traducciones\n",
    "    translated_df[col] = translated_df[col].map(translations)\n",
    "\n"
   ],
   "metadata": {
    "collapsed": false,
    "is_executing": true,
    "ExecuteTime": {
     "start_time": "2023-10-04T08:18:18.957911Z"
    }
   },
   "id": "de2bc3878d4e52e0"
  },
  {
   "cell_type": "code",
   "execution_count": null,
   "outputs": [],
   "source": [
    "translated_df"
   ],
   "metadata": {
    "collapsed": false,
    "is_executing": true
   },
   "id": "6319add2603774b0"
  },
  {
   "cell_type": "markdown",
   "source": [
    "### Type of crimes"
   ],
   "metadata": {
    "collapsed": false
   },
   "id": "db886be464d06752"
  },
  {
   "cell_type": "code",
   "execution_count": 8,
   "outputs": [
    {
     "ename": "KeyError",
     "evalue": "'Type of Crime'",
     "output_type": "error",
     "traceback": [
      "\u001B[0;31m---------------------------------------------------------------------------\u001B[0m",
      "\u001B[0;31mKeyError\u001B[0m                                  Traceback (most recent call last)",
      "File \u001B[0;32m~/anaconda3/envs/mexico_crime/lib/python3.11/site-packages/pandas/core/indexes/base.py:3653\u001B[0m, in \u001B[0;36mIndex.get_loc\u001B[0;34m(self, key)\u001B[0m\n\u001B[1;32m   3652\u001B[0m \u001B[38;5;28;01mtry\u001B[39;00m:\n\u001B[0;32m-> 3653\u001B[0m     \u001B[38;5;28;01mreturn\u001B[39;00m \u001B[38;5;28;43mself\u001B[39;49m\u001B[38;5;241;43m.\u001B[39;49m\u001B[43m_engine\u001B[49m\u001B[38;5;241;43m.\u001B[39;49m\u001B[43mget_loc\u001B[49m\u001B[43m(\u001B[49m\u001B[43mcasted_key\u001B[49m\u001B[43m)\u001B[49m\n\u001B[1;32m   3654\u001B[0m \u001B[38;5;28;01mexcept\u001B[39;00m \u001B[38;5;167;01mKeyError\u001B[39;00m \u001B[38;5;28;01mas\u001B[39;00m err:\n",
      "File \u001B[0;32m~/anaconda3/envs/mexico_crime/lib/python3.11/site-packages/pandas/_libs/index.pyx:147\u001B[0m, in \u001B[0;36mpandas._libs.index.IndexEngine.get_loc\u001B[0;34m()\u001B[0m\n",
      "File \u001B[0;32m~/anaconda3/envs/mexico_crime/lib/python3.11/site-packages/pandas/_libs/index.pyx:176\u001B[0m, in \u001B[0;36mpandas._libs.index.IndexEngine.get_loc\u001B[0;34m()\u001B[0m\n",
      "File \u001B[0;32mpandas/_libs/hashtable_class_helper.pxi:7080\u001B[0m, in \u001B[0;36mpandas._libs.hashtable.PyObjectHashTable.get_item\u001B[0;34m()\u001B[0m\n",
      "File \u001B[0;32mpandas/_libs/hashtable_class_helper.pxi:7088\u001B[0m, in \u001B[0;36mpandas._libs.hashtable.PyObjectHashTable.get_item\u001B[0;34m()\u001B[0m\n",
      "\u001B[0;31mKeyError\u001B[0m: 'Type of Crime'",
      "\nThe above exception was the direct cause of the following exception:\n",
      "\u001B[0;31mKeyError\u001B[0m                                  Traceback (most recent call last)",
      "Cell \u001B[0;32mIn[8], line 1\u001B[0m\n\u001B[0;32m----> 1\u001B[0m crime_type_counts \u001B[38;5;241m=\u001B[39m \u001B[43mcrimes_df\u001B[49m\u001B[43m[\u001B[49m\u001B[38;5;124;43m'\u001B[39;49m\u001B[38;5;124;43mType of Crime\u001B[39;49m\u001B[38;5;124;43m'\u001B[39;49m\u001B[43m]\u001B[49m\u001B[38;5;241m.\u001B[39mvalue_counts()\n\u001B[1;32m      2\u001B[0m crime_type_counts\n",
      "File \u001B[0;32m~/anaconda3/envs/mexico_crime/lib/python3.11/site-packages/pandas/core/frame.py:3761\u001B[0m, in \u001B[0;36mDataFrame.__getitem__\u001B[0;34m(self, key)\u001B[0m\n\u001B[1;32m   3759\u001B[0m \u001B[38;5;28;01mif\u001B[39;00m \u001B[38;5;28mself\u001B[39m\u001B[38;5;241m.\u001B[39mcolumns\u001B[38;5;241m.\u001B[39mnlevels \u001B[38;5;241m>\u001B[39m \u001B[38;5;241m1\u001B[39m:\n\u001B[1;32m   3760\u001B[0m     \u001B[38;5;28;01mreturn\u001B[39;00m \u001B[38;5;28mself\u001B[39m\u001B[38;5;241m.\u001B[39m_getitem_multilevel(key)\n\u001B[0;32m-> 3761\u001B[0m indexer \u001B[38;5;241m=\u001B[39m \u001B[38;5;28;43mself\u001B[39;49m\u001B[38;5;241;43m.\u001B[39;49m\u001B[43mcolumns\u001B[49m\u001B[38;5;241;43m.\u001B[39;49m\u001B[43mget_loc\u001B[49m\u001B[43m(\u001B[49m\u001B[43mkey\u001B[49m\u001B[43m)\u001B[49m\n\u001B[1;32m   3762\u001B[0m \u001B[38;5;28;01mif\u001B[39;00m is_integer(indexer):\n\u001B[1;32m   3763\u001B[0m     indexer \u001B[38;5;241m=\u001B[39m [indexer]\n",
      "File \u001B[0;32m~/anaconda3/envs/mexico_crime/lib/python3.11/site-packages/pandas/core/indexes/base.py:3655\u001B[0m, in \u001B[0;36mIndex.get_loc\u001B[0;34m(self, key)\u001B[0m\n\u001B[1;32m   3653\u001B[0m     \u001B[38;5;28;01mreturn\u001B[39;00m \u001B[38;5;28mself\u001B[39m\u001B[38;5;241m.\u001B[39m_engine\u001B[38;5;241m.\u001B[39mget_loc(casted_key)\n\u001B[1;32m   3654\u001B[0m \u001B[38;5;28;01mexcept\u001B[39;00m \u001B[38;5;167;01mKeyError\u001B[39;00m \u001B[38;5;28;01mas\u001B[39;00m err:\n\u001B[0;32m-> 3655\u001B[0m     \u001B[38;5;28;01mraise\u001B[39;00m \u001B[38;5;167;01mKeyError\u001B[39;00m(key) \u001B[38;5;28;01mfrom\u001B[39;00m \u001B[38;5;21;01merr\u001B[39;00m\n\u001B[1;32m   3656\u001B[0m \u001B[38;5;28;01mexcept\u001B[39;00m \u001B[38;5;167;01mTypeError\u001B[39;00m:\n\u001B[1;32m   3657\u001B[0m     \u001B[38;5;66;03m# If we have a listlike key, _check_indexing_error will raise\u001B[39;00m\n\u001B[1;32m   3658\u001B[0m     \u001B[38;5;66;03m#  InvalidIndexError. Otherwise we fall through and re-raise\u001B[39;00m\n\u001B[1;32m   3659\u001B[0m     \u001B[38;5;66;03m#  the TypeError.\u001B[39;00m\n\u001B[1;32m   3660\u001B[0m     \u001B[38;5;28mself\u001B[39m\u001B[38;5;241m.\u001B[39m_check_indexing_error(key)\n",
      "\u001B[0;31mKeyError\u001B[0m: 'Type of Crime'"
     ]
    }
   ],
   "source": [
    "crime_type_counts = crimes_df['Type of Crime'].value_counts()\n",
    "crime_type_counts"
   ],
   "metadata": {
    "collapsed": false,
    "ExecuteTime": {
     "end_time": "2023-10-04T08:04:57.329510Z",
     "start_time": "2023-10-04T08:04:56.963663Z"
    }
   },
   "id": "3aa347e25e4d06aa"
  },
  {
   "cell_type": "code",
   "execution_count": 10,
   "outputs": [
    {
     "data": {
      "text/plain": "        Año  Clave_Ent         Entidad  \\\n0      2015          1  Aguascalientes   \n1      2015          1  Aguascalientes   \n2      2015          1  Aguascalientes   \n3      2015          1  Aguascalientes   \n4      2015          1  Aguascalientes   \n...     ...        ...             ...   \n28219  2023         32       Zacatecas   \n28220  2023         32       Zacatecas   \n28221  2023         32       Zacatecas   \n28222  2023         32       Zacatecas   \n28223  2023         32       Zacatecas   \n\n                                  Bien jurídico afectado  \\\n0                       La vida y la Integridad corporal   \n1                       La vida y la Integridad corporal   \n2                       La vida y la Integridad corporal   \n3                       La vida y la Integridad corporal   \n4                       La vida y la Integridad corporal   \n...                                                  ...   \n28219  Otros bienes jurídicos afectados (del fuero co...   \n28220  Otros bienes jurídicos afectados (del fuero co...   \n28221  Otros bienes jurídicos afectados (del fuero co...   \n28222  Otros bienes jurídicos afectados (del fuero co...   \n28223  Otros bienes jurídicos afectados (del fuero co...   \n\n                                  Tipo de delito  \\\n0                                      Homicidio   \n1                                      Homicidio   \n2                                      Homicidio   \n3                                      Homicidio   \n4                                      Homicidio   \n...                                          ...   \n28219                              Falsificación   \n28220                   Contra el medio ambiente   \n28221  Delitos cometidos por servidores públicos   \n28222                                Electorales   \n28223              Otros delitos del Fuero Común   \n\n                               Subtipo de delito  \\\n0                               Homicidio doloso   \n1                               Homicidio doloso   \n2                               Homicidio doloso   \n3                               Homicidio doloso   \n4                              Homicidio culposo   \n...                                          ...   \n28219                              Falsificación   \n28220                   Contra el medio ambiente   \n28221  Delitos cometidos por servidores públicos   \n28222                                Electorales   \n28223              Otros delitos del Fuero Común   \n\n                                       Modalidad  Enero  Febrero  Marzo  \\\n0                              Con arma de fuego      3        0      2   \n1                                Con arma blanca      1        1      0   \n2                              Con otro elemento      0        0      2   \n3                                No especificado      2        0      0   \n4                              Con arma de fuego      0        0      0   \n...                                          ...    ...      ...    ...   \n28219                              Falsificación     15        7     11   \n28220                   Contra el medio ambiente      0        1      0   \n28221  Delitos cometidos por servidores públicos     16       20     27   \n28222                                Electorales      0        0      0   \n28223              Otros delitos del Fuero Común    149      139    194   \n\n       Abril  Mayo  Junio  Julio  Agosto  Septiembre  Octubre  Noviembre  \\\n0          1     1      1      2       1         2.0      2.0        2.0   \n1          0     0      1      0       1         0.0      0.0        0.0   \n2          2     3      2      0       1         2.0      0.0        0.0   \n3          1     0      0      0       0         0.0      0.0        0.0   \n4          0     1      0      0       0         0.0      0.0        0.0   \n...      ...   ...    ...    ...     ...         ...      ...        ...   \n28219     10     6      9      9       2         NaN      NaN        NaN   \n28220      0     1      2      0       0         NaN      NaN        NaN   \n28221     23    25     32     25      13         NaN      NaN        NaN   \n28222      2     0      1      1       1         NaN      NaN        NaN   \n28223    184   240    208    172     137         NaN      NaN        NaN   \n\n       Diciembre  \n0            1.0  \n1            1.0  \n2            0.0  \n3            0.0  \n4            0.0  \n...          ...  \n28219        NaN  \n28220        NaN  \n28221        NaN  \n28222        NaN  \n28223        NaN  \n\n[28224 rows x 19 columns]",
      "text/html": "<div>\n<style scoped>\n    .dataframe tbody tr th:only-of-type {\n        vertical-align: middle;\n    }\n\n    .dataframe tbody tr th {\n        vertical-align: top;\n    }\n\n    .dataframe thead th {\n        text-align: right;\n    }\n</style>\n<table border=\"1\" class=\"dataframe\">\n  <thead>\n    <tr style=\"text-align: right;\">\n      <th></th>\n      <th>Año</th>\n      <th>Clave_Ent</th>\n      <th>Entidad</th>\n      <th>Bien jurídico afectado</th>\n      <th>Tipo de delito</th>\n      <th>Subtipo de delito</th>\n      <th>Modalidad</th>\n      <th>Enero</th>\n      <th>Febrero</th>\n      <th>Marzo</th>\n      <th>Abril</th>\n      <th>Mayo</th>\n      <th>Junio</th>\n      <th>Julio</th>\n      <th>Agosto</th>\n      <th>Septiembre</th>\n      <th>Octubre</th>\n      <th>Noviembre</th>\n      <th>Diciembre</th>\n    </tr>\n  </thead>\n  <tbody>\n    <tr>\n      <th>0</th>\n      <td>2015</td>\n      <td>1</td>\n      <td>Aguascalientes</td>\n      <td>La vida y la Integridad corporal</td>\n      <td>Homicidio</td>\n      <td>Homicidio doloso</td>\n      <td>Con arma de fuego</td>\n      <td>3</td>\n      <td>0</td>\n      <td>2</td>\n      <td>1</td>\n      <td>1</td>\n      <td>1</td>\n      <td>2</td>\n      <td>1</td>\n      <td>2.0</td>\n      <td>2.0</td>\n      <td>2.0</td>\n      <td>1.0</td>\n    </tr>\n    <tr>\n      <th>1</th>\n      <td>2015</td>\n      <td>1</td>\n      <td>Aguascalientes</td>\n      <td>La vida y la Integridad corporal</td>\n      <td>Homicidio</td>\n      <td>Homicidio doloso</td>\n      <td>Con arma blanca</td>\n      <td>1</td>\n      <td>1</td>\n      <td>0</td>\n      <td>0</td>\n      <td>0</td>\n      <td>1</td>\n      <td>0</td>\n      <td>1</td>\n      <td>0.0</td>\n      <td>0.0</td>\n      <td>0.0</td>\n      <td>1.0</td>\n    </tr>\n    <tr>\n      <th>2</th>\n      <td>2015</td>\n      <td>1</td>\n      <td>Aguascalientes</td>\n      <td>La vida y la Integridad corporal</td>\n      <td>Homicidio</td>\n      <td>Homicidio doloso</td>\n      <td>Con otro elemento</td>\n      <td>0</td>\n      <td>0</td>\n      <td>2</td>\n      <td>2</td>\n      <td>3</td>\n      <td>2</td>\n      <td>0</td>\n      <td>1</td>\n      <td>2.0</td>\n      <td>0.0</td>\n      <td>0.0</td>\n      <td>0.0</td>\n    </tr>\n    <tr>\n      <th>3</th>\n      <td>2015</td>\n      <td>1</td>\n      <td>Aguascalientes</td>\n      <td>La vida y la Integridad corporal</td>\n      <td>Homicidio</td>\n      <td>Homicidio doloso</td>\n      <td>No especificado</td>\n      <td>2</td>\n      <td>0</td>\n      <td>0</td>\n      <td>1</td>\n      <td>0</td>\n      <td>0</td>\n      <td>0</td>\n      <td>0</td>\n      <td>0.0</td>\n      <td>0.0</td>\n      <td>0.0</td>\n      <td>0.0</td>\n    </tr>\n    <tr>\n      <th>4</th>\n      <td>2015</td>\n      <td>1</td>\n      <td>Aguascalientes</td>\n      <td>La vida y la Integridad corporal</td>\n      <td>Homicidio</td>\n      <td>Homicidio culposo</td>\n      <td>Con arma de fuego</td>\n      <td>0</td>\n      <td>0</td>\n      <td>0</td>\n      <td>0</td>\n      <td>1</td>\n      <td>0</td>\n      <td>0</td>\n      <td>0</td>\n      <td>0.0</td>\n      <td>0.0</td>\n      <td>0.0</td>\n      <td>0.0</td>\n    </tr>\n    <tr>\n      <th>...</th>\n      <td>...</td>\n      <td>...</td>\n      <td>...</td>\n      <td>...</td>\n      <td>...</td>\n      <td>...</td>\n      <td>...</td>\n      <td>...</td>\n      <td>...</td>\n      <td>...</td>\n      <td>...</td>\n      <td>...</td>\n      <td>...</td>\n      <td>...</td>\n      <td>...</td>\n      <td>...</td>\n      <td>...</td>\n      <td>...</td>\n      <td>...</td>\n    </tr>\n    <tr>\n      <th>28219</th>\n      <td>2023</td>\n      <td>32</td>\n      <td>Zacatecas</td>\n      <td>Otros bienes jurídicos afectados (del fuero co...</td>\n      <td>Falsificación</td>\n      <td>Falsificación</td>\n      <td>Falsificación</td>\n      <td>15</td>\n      <td>7</td>\n      <td>11</td>\n      <td>10</td>\n      <td>6</td>\n      <td>9</td>\n      <td>9</td>\n      <td>2</td>\n      <td>NaN</td>\n      <td>NaN</td>\n      <td>NaN</td>\n      <td>NaN</td>\n    </tr>\n    <tr>\n      <th>28220</th>\n      <td>2023</td>\n      <td>32</td>\n      <td>Zacatecas</td>\n      <td>Otros bienes jurídicos afectados (del fuero co...</td>\n      <td>Contra el medio ambiente</td>\n      <td>Contra el medio ambiente</td>\n      <td>Contra el medio ambiente</td>\n      <td>0</td>\n      <td>1</td>\n      <td>0</td>\n      <td>0</td>\n      <td>1</td>\n      <td>2</td>\n      <td>0</td>\n      <td>0</td>\n      <td>NaN</td>\n      <td>NaN</td>\n      <td>NaN</td>\n      <td>NaN</td>\n    </tr>\n    <tr>\n      <th>28221</th>\n      <td>2023</td>\n      <td>32</td>\n      <td>Zacatecas</td>\n      <td>Otros bienes jurídicos afectados (del fuero co...</td>\n      <td>Delitos cometidos por servidores públicos</td>\n      <td>Delitos cometidos por servidores públicos</td>\n      <td>Delitos cometidos por servidores públicos</td>\n      <td>16</td>\n      <td>20</td>\n      <td>27</td>\n      <td>23</td>\n      <td>25</td>\n      <td>32</td>\n      <td>25</td>\n      <td>13</td>\n      <td>NaN</td>\n      <td>NaN</td>\n      <td>NaN</td>\n      <td>NaN</td>\n    </tr>\n    <tr>\n      <th>28222</th>\n      <td>2023</td>\n      <td>32</td>\n      <td>Zacatecas</td>\n      <td>Otros bienes jurídicos afectados (del fuero co...</td>\n      <td>Electorales</td>\n      <td>Electorales</td>\n      <td>Electorales</td>\n      <td>0</td>\n      <td>0</td>\n      <td>0</td>\n      <td>2</td>\n      <td>0</td>\n      <td>1</td>\n      <td>1</td>\n      <td>1</td>\n      <td>NaN</td>\n      <td>NaN</td>\n      <td>NaN</td>\n      <td>NaN</td>\n    </tr>\n    <tr>\n      <th>28223</th>\n      <td>2023</td>\n      <td>32</td>\n      <td>Zacatecas</td>\n      <td>Otros bienes jurídicos afectados (del fuero co...</td>\n      <td>Otros delitos del Fuero Común</td>\n      <td>Otros delitos del Fuero Común</td>\n      <td>Otros delitos del Fuero Común</td>\n      <td>149</td>\n      <td>139</td>\n      <td>194</td>\n      <td>184</td>\n      <td>240</td>\n      <td>208</td>\n      <td>172</td>\n      <td>137</td>\n      <td>NaN</td>\n      <td>NaN</td>\n      <td>NaN</td>\n      <td>NaN</td>\n    </tr>\n  </tbody>\n</table>\n<p>28224 rows × 19 columns</p>\n</div>"
     },
     "execution_count": 10,
     "metadata": {},
     "output_type": "execute_result"
    }
   ],
   "source": [
    "crimes_df.count()"
   ],
   "metadata": {
    "collapsed": false,
    "ExecuteTime": {
     "end_time": "2023-10-04T08:16:16.056093Z",
     "start_time": "2023-10-04T08:16:15.967451Z"
    }
   },
   "id": "ed0c5a39ce4f5fb2"
  },
  {
   "cell_type": "code",
   "execution_count": null,
   "outputs": [],
   "source": [],
   "metadata": {
    "collapsed": false
   },
   "id": "c55a4beb0ec4069"
  }
 ],
 "metadata": {
  "kernelspec": {
   "display_name": "Python 3",
   "language": "python",
   "name": "python3"
  },
  "language_info": {
   "codemirror_mode": {
    "name": "ipython",
    "version": 2
   },
   "file_extension": ".py",
   "mimetype": "text/x-python",
   "name": "python",
   "nbconvert_exporter": "python",
   "pygments_lexer": "ipython2",
   "version": "2.7.6"
  }
 },
 "nbformat": 4,
 "nbformat_minor": 5
}
